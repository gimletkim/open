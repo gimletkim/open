{
 "cells": [
  {
   "cell_type": "markdown",
   "metadata": {},
   "source": [
    "## 0. Goal"
   ]
  },
  {
   "cell_type": "markdown",
   "metadata": {},
   "source": [
    "#### Heart Arrhythmia Detection from ECG waveform with Deep Learning model"
   ]
  },
  {
   "cell_type": "markdown",
   "metadata": {},
   "source": [
    "----"
   ]
  },
  {
   "cell_type": "markdown",
   "metadata": {},
   "source": [
    "## 1. Backgrounds"
   ]
  },
  {
   "cell_type": "markdown",
   "metadata": {},
   "source": [
    "##### - datasest: MIT-BIH Arrhythmia dataset을 활용 (source: https://physionet.org/content/mitdb/1.0.0/)"
   ]
  },
  {
   "cell_type": "markdown",
   "metadata": {},
   "source": [
    "------"
   ]
  },
  {
   "cell_type": "markdown",
   "metadata": {},
   "source": [
    "## 2. Data distribution and Basic Statistics"
   ]
  },
  {
   "cell_type": "code",
   "execution_count": 1,
   "metadata": {},
   "outputs": [],
   "source": [
    "import pandas as pd\n",
    "import numpy as np\n",
    "import matplotlib\n",
    "%matplotlib inline\n",
    "import matplotlib.pylab as plt\n",
    "import os\n",
    "import sys\n",
    "import glob\n",
    "import tqdm\n",
    "import random\n",
    "from itertools import cycle\n",
    "import warnings\n",
    "warnings.filterwarnings(action='ignore')\n",
    "\n",
    "import wfdb\n",
    "\n",
    "from sklearn.metrics import roc_auc_score, roc_curve, classification_report, auc\n",
    "from sklearn.preprocessing import label_binarize"
   ]
  },
  {
   "cell_type": "code",
   "execution_count": 3,
   "metadata": {},
   "outputs": [
    {
     "name": "stdout",
     "output_type": "stream",
     "text": [
      "['100.atr', '100.dat', '100.hea', '100.xws', '101.atr', '101.dat', '101.hea', '101.xws', '102-0.atr', '102.atr', '102.dat', '102.hea', '102.xws', '103.atr', '103.dat', '103.hea', '103.xws', '104.atr', '104.dat', '104.hea', '104.xws', '105.atr', '105.dat', '105.hea', '105.xws', '106.atr', '106.dat', '106.hea', '106.xws', '107.atr', '107.dat', '107.hea', '107.xws', '108.atr', '108.at_', '108.dat', '108.hea', '108.xws', '109.atr', '109.dat', '109.hea', '109.xws', '111.atr', '111.dat', '111.hea', '111.xws', '112.atr', '112.dat', '112.hea', '112.xws', '113.atr', '113.dat', '113.hea', '113.xws', '114.atr', '114.dat', '114.hea', '114.xws', '115.atr', '115.dat', '115.hea', '115.xws', '116.atr', '116.dat', '116.hea', '116.xws', '117.atr', '117.at_', '117.dat', '117.hea', '117.xws', '118.atr', '118.dat', '118.hea', '118.xws', '119.atr', '119.at_', '119.dat', '119.hea', '119.xws', '121.atr', '121.dat', '121.hea', '121.xws', '122.atr', '122.dat', '122.hea', '122.xws', '123.atr', '123.dat', '123.hea', '123.xws', '124.atr', '124.dat', '124.hea', '124.xws', '200.atr', '200.dat', '200.hea', '200.xws', '201.atr', '201.dat', '201.hea', '201.xws', '202.atr', '202.dat', '202.hea', '202.xws', '203.at-', '203.atr', '203.at_', '203.dat', '203.hea', '203.xws', '205.atr', '205.dat', '205.hea', '205.xws', '207.atr', '207.dat', '207.hea', '207.xws', '208.atr', '208.dat', '208.hea', '208.xws', '209.atr', '209.at_', '209.dat', '209.hea', '209.xws', '210.atr', '210.dat', '210.hea', '210.xws', '212.atr', '212.dat', '212.hea', '212.xws', '213.atr', '213.dat', '213.hea', '213.xws', '214.atr', '214.at_', '214.dat', '214.hea', '214.xws', '215.atr', '215.at_', '215.dat', '215.hea', '215.xws', '217.atr', '217.dat', '217.hea', '217.xws', '219.atr', '219.dat', '219.hea', '219.xws', '220.atr', '220.dat', '220.hea', '220.xws', '221.atr', '221.dat', '221.hea', '221.xws', '222.atr', '222.at_', '222.dat', '222.hea', '222.xws', '223.atr', '223.dat', '223.hea', '223.xws', '228.atr', '228.dat', '228.hea', '228.xws', '230.atr', '230.dat', '230.hea', '230.xws', '231.atr', '231.dat', '231.hea', '231.xws', '232.atr', '232.dat', '232.hea', '232.xws', '233.atr', '233.dat', '233.hea', '233.xws', '234.atr', '234.dat', '234.hea', '234.xws', 'ANNOTATORS', 'mitdbdir', 'RECORDS', 'SHA256SUMS.txt', 'x_mitdb']\n"
     ]
    }
   ],
   "source": [
    "# datapath\n",
    "datapath = r'c:/users/MI2RL-KHJ/workspace_signal/physionet_raw/mit-bih-arrhythmia-database-1.0.0'\n",
    "# mimic dataset 파일 구성: hea, atr, dat, xws\n",
    "print(os.listdir(datapath))"
   ]
  },
  {
   "cell_type": "code",
   "execution_count": 4,
   "metadata": {},
   "outputs": [],
   "source": [
    "header_files = [os.path.basename(x) for x in glob.glob(os.path.join(datapath, '*.hea'))]\n",
    "pids = sorted([x.split('.')[0] for x in header_files])"
   ]
  },
  {
   "cell_type": "code",
   "execution_count": 5,
   "metadata": {},
   "outputs": [],
   "source": [
    "# annotation 파일 불러와서 label의 분포 확인\n",
    "df = pd.DataFrame()\n",
    "\n",
    "for pid in pids:\n",
    "    file = os.path.join(datapath, pid)\n",
    "    annotation = wfdb.rdann(os.path.join(file), 'atr')\n",
    "    symbols = annotation.symbol\n",
    "    \n",
    "    values, cnts = np.unique(symbols, return_counts=True)\n",
    "    df_sub = pd.DataFrame({'symbol': values, 'value': cnts, 'pid':[pid] * len(cnts)})\n",
    "    df = pd.concat([df, df_sub], axis=0)"
   ]
  },
  {
   "cell_type": "code",
   "execution_count": 6,
   "metadata": {},
   "outputs": [
    {
     "data": {
      "text/plain": [
       "symbol\n",
       "N    75052\n",
       "L     8075\n",
       "R     7259\n",
       "V     7130\n",
       "/     7028\n",
       "A     2546\n",
       "+     1291\n",
       "f      982\n",
       "F      803\n",
       "~      616\n",
       "!      472\n",
       "\"      437\n",
       "j      229\n",
       "x      193\n",
       "a      150\n",
       "|      132\n",
       "E      106\n",
       "J       83\n",
       "Q       33\n",
       "e       16\n",
       "[        6\n",
       "]        6\n",
       "S        2\n",
       "Name: value, dtype: int64"
      ]
     },
     "execution_count": 6,
     "metadata": {},
     "output_type": "execute_result"
    }
   ],
   "source": [
    "# Annotation 파일의 분포\n",
    "df.groupby('symbol').value.sum().sort_values(ascending = False)"
   ]
  },
  {
   "cell_type": "code",
   "execution_count": 7,
   "metadata": {},
   "outputs": [],
   "source": [
    "# list of nonbeat and abnormal\n",
    "nonbeat = ['[','!',']','x','(',')','p','t','u','`',\n",
    "           '\\'','^','|','~','+','s','T','*','D','=','\"','@','Q','?']\n",
    "abnormal = ['L','R','V','/','A','f','F','j','a','E','J','e','S']"
   ]
  },
  {
   "cell_type": "code",
   "execution_count": 8,
   "metadata": {},
   "outputs": [],
   "source": [
    "# normal, abnormal, nonbeat의 비율 구성 확인\n",
    "df['type'] = -1 # nonbeat\n",
    "df.loc[df.symbol == 'N', 'type'] = 0 # normal\n",
    "df.loc[df.symbol.isin(abnormal), 'type'] = 1 # abnormal"
   ]
  },
  {
   "cell_type": "code",
   "execution_count": 9,
   "metadata": {},
   "outputs": [],
   "source": [
    "df['type2'] = 'Non-beat' # nonbeat\n",
    "df.loc[df.symbol == 'N', 'type2'] = 'Normal' # normal\n",
    "df.loc[df.symbol.isin(abnormal), 'type2'] = 'Abnormal' # abnormal"
   ]
  },
  {
   "cell_type": "code",
   "execution_count": 10,
   "metadata": {},
   "outputs": [
    {
     "data": {
      "text/plain": [
       "type2\n",
       "Abnormal    34409\n",
       "Non-beat     3186\n",
       "Normal      75052\n",
       "Name: value, dtype: int64"
      ]
     },
     "execution_count": 10,
     "metadata": {},
     "output_type": "execute_result"
    }
   ],
   "source": [
    "df.groupby('type2').value.sum()"
   ]
  },
  {
   "cell_type": "markdown",
   "metadata": {},
   "source": [
    "#### Define ECG data loading function"
   ]
  },
  {
   "cell_type": "code",
   "execution_count": 14,
   "metadata": {},
   "outputs": [],
   "source": [
    "# load single patient's ecg signal and annotation\n",
    "def load_ecg(file):\n",
    "    \"\"\"\n",
    "    wfdb.rdrecord 를 이용해서 ecg 파일을 읽어옵니다.\n",
    "    \"\"\"\n",
    "    \n",
    "    # load the ecg\n",
    "    record = wfdb.rdrecord(file)\n",
    "    # load the annotation\n",
    "    annotation = wfdb.rdann(file, 'atr')\n",
    "    \n",
    "    # extract the signal\n",
    "    p_signal = record.p_signal\n",
    "    \n",
    "    # verify frequency is 360\n",
    "    assert record.fs == 360, 'sample freq is not 360'\n",
    "    \n",
    "    # extract symbols and annotation index\n",
    "    atr_sym = annotation.symbol\n",
    "    atr_index = annotation.sample\n",
    "    \n",
    "    return p_signal, atr_sym, atr_index\n",
    "\n",
    "# p_signal = raw ecg signal\n",
    "# atr_sym = annotation symbol\n",
    "# atr_sample = annotation index"
   ]
  },
  {
   "cell_type": "code",
   "execution_count": 15,
   "metadata": {},
   "outputs": [
    {
     "data": {
      "text/plain": [
       "[<matplotlib.lines.Line2D at 0x2589b121a58>]"
      ]
     },
     "execution_count": 15,
     "metadata": {},
     "output_type": "execute_result"
    },
    {
     "data": {
      "image/png": "[encoded data removed]",
      "text/plain": [
       "<Figure size 432x288 with 1 Axes>"
      ]
     },
     "metadata": {
      "needs_background": "light"
     },
     "output_type": "display_data"
    }
   ],
   "source": [
    "file = os.path.join(datapath, pids[0])\n",
    "p_signal, atr_sym, atr_sample = load_ecg(file)\n",
    "plt.plot(p_signal[1000:2000, 0])"
   ]
  },
  {
   "cell_type": "code",
   "execution_count": 16,
   "metadata": {},
   "outputs": [
    {
     "name": "stdout",
     "output_type": "stream",
     "text": [
      "+ 1\n",
      "A 33\n",
      "N 2239\n",
      "V 1\n"
     ]
    }
   ],
   "source": [
    "values, counts = np.unique(atr_sym, return_counts = True)\n",
    "for v, c in zip(values, counts):\n",
    "    print(v, c)"
   ]
  },
  {
   "cell_type": "code",
   "execution_count": 17,
   "metadata": {},
   "outputs": [
    {
     "data": {
      "text/plain": [
       "[2044, 66792, 74986, 99579, 128085, 170719, 279576, 305709, 307745, 312825]"
      ]
     },
     "execution_count": 17,
     "metadata": {},
     "output_type": "execute_result"
    }
   ],
   "source": [
    "# get abnormal beat index\n",
    "ab_index = [b for a,b in zip(atr_sym,atr_sample) if a in abnormal][:10]\n",
    "ab_index"
   ]
  },
  {
   "cell_type": "code",
   "execution_count": 18,
   "metadata": {},
   "outputs": [
    {
     "data": {
      "image/png": "[encoded data removed]",
      "text/plain": [
       "<Figure size 1080x576 with 1 Axes>"
      ]
     },
     "metadata": {
      "needs_background": "light"
     },
     "output_type": "display_data"
    }
   ],
   "source": [
    "# abnormal에 해당되는 annotation의 index를 기준으로, 전후 3초의 ecg signal을 plotting\n",
    "x = np.arange(len(p_signal))\n",
    "left = ab_index[1]-(360*3) # 전 3초\n",
    "right = ab_index[1]+(360*3) # 후 3초\n",
    "\n",
    "plt.figure(figsize=(15, 8))\n",
    "plt.plot(x[left:right],p_signal[left:right,0],'-',label='ecg',)\n",
    "plt.plot(x[atr_sample],p_signal[atr_sample,0],'go',label ='normal')\n",
    "plt.plot(x[ab_index],p_signal[ab_index,0],'ro',label='abnormal')\n",
    "\n",
    "plt.xlim(left,right)\n",
    "plt.ylim(p_signal[left:right].min()-0.05,p_signal[left:right,0].max()+0.05)\n",
    "plt.xlabel('time index')\n",
    "plt.ylabel('ECG signal')\n",
    "plt.legend(bbox_to_anchor = (1.04,1), loc = 'upper left')\n",
    "plt.show()"
   ]
  },
  {
   "cell_type": "markdown",
   "metadata": {},
   "source": [
    "---------------"
   ]
  },
  {
   "cell_type": "markdown",
   "metadata": {},
   "source": [
    "## 3. Preparing dataset for deep learning"
   ]
  },
  {
   "cell_type": "markdown",
   "metadata": {},
   "source": [
    "#### 3-1. Define functions to build dataset for deep learning"
   ]
  },
  {
   "cell_type": "code",
   "execution_count": 24,
   "metadata": {},
   "outputs": [],
   "source": [
    "def build_dataset(pids, window_size, freq, abnormal):\n",
    "    \"\"\"\n",
    "    딥러닝 모델 학습을 위한 데이터를 구축합니다.\n",
    "    \"\"\"\n",
    "    ncols = window_size * freq\n",
    "    X_merged = np.zeros((1, ncols))\n",
    "    Y_merged = np.zeros((1,1))\n",
    "    symbol_merged = []\n",
    "    \n",
    "    rows_per_pid = []\n",
    "    \n",
    "    for pid in tqdm.tqdm(pids):\n",
    "        \n",
    "        filename = os.path.join(datapath, pid)\n",
    "        p_signal, atr_sym, atr_sample = load_ecg(filename)\n",
    "        \n",
    "        p_signal = p_signal[:,0]\n",
    "        \n",
    "        # beat index (exclude non-beat)\n",
    "        beat_annotation_index = [x in (abnormal + ['N']) for x in atr_sym]\n",
    "        \n",
    "        X, Y, symbols = build_XY(signal=p_signal, \n",
    "                                 atr_sym = atr_sym, \n",
    "                                 atr_sample = atr_sample,\n",
    "                                 beat_index = beat_annotation_index, \n",
    "                                 nsec = window_size/2, \n",
    "                                 fs = freq,\n",
    "                                 ncols = ncols,\n",
    "                                 abnormal = abnormal)\n",
    "        \n",
    "        X_merged = np.append(X_merged, X, axis=0)\n",
    "        Y_merged = np.append(Y_merged, Y, axis=0)\n",
    "        symbol_merged = symbol_merged + symbols\n",
    "        rows_per_pid.append(Y.shape[0])\n",
    "        \n",
    "    # drop first zero rows\n",
    "    X_merged = X_merged[1:,:]\n",
    "    Y_merged = Y_merged[1:,:]\n",
    "    \n",
    "    # check sizes make sense\n",
    "    assert np.sum(rows_per_pid) == X_merged.shape[0], 'number of X, max_rows rows messed up'\n",
    "    assert Y_merged.shape[0] == X_merged.shape[0], 'number of X, Y rows messed up'\n",
    "    assert Y_merged.shape[0] == len(symbol_merged), 'number of Y, sym rows messed up'\n",
    "    \n",
    "    return X_merged, Y_merged, symbol_merged\n",
    "\n",
    "\n",
    "def build_XY(signal, atr_sym, atr_sample, beat_index, nsec, fs, ncols, abnormal):\n",
    "    \"\"\"\n",
    "    하나의 환자 id에서 signal과 annotation을 추출합니다.\n",
    "    \"\"\"\n",
    "    \n",
    "    num_rows = len(beat_index)\n",
    "\n",
    "    X = np.zeros((num_rows, ncols))\n",
    "    Y = np.zeros((num_rows,1))\n",
    "    symbols = []\n",
    "    \n",
    "    # keep track of rows\n",
    "    max_row = 0\n",
    "    \n",
    "    beat_atr_sym = np.array(atr_sym)[beat_index]\n",
    "    beat_atr_sample = np.array(atr_sample)[beat_index]\n",
    "\n",
    "    for sym, samp in zip(beat_atr_sym, beat_atr_sample):\n",
    "\n",
    "        left = int(max([0,(samp - nsec*fs) ]))\n",
    "        right = int(min([len(signal),(samp + nsec*fs) ]))\n",
    "        \n",
    "        x = signal[left: right]\n",
    "        if len(x) == ncols:\n",
    "            X[max_row,:] = x\n",
    "            Y[max_row,:] = int(sym in abnormal)\n",
    "            symbols.append(sym)\n",
    "            max_row += 1\n",
    "    X = X[:max_row,:]\n",
    "    Y = Y[:max_row,:]\n",
    "    return X, Y, symbols"
   ]
  },
  {
   "cell_type": "markdown",
   "metadata": {},
   "source": [
    "#### 3-2. Build train and validation dataset"
   ]
  },
  {
   "cell_type": "code",
   "execution_count": 21,
   "metadata": {},
   "outputs": [],
   "source": [
    "# 6초의 segment로 데이터 구축\n",
    "window_size = 6\n",
    "frequency = 360\n",
    "batch_size = 1000"
   ]
  },
  {
   "cell_type": "code",
   "execution_count": 22,
   "metadata": {},
   "outputs": [],
   "source": [
    "# dataset split\n",
    "random.seed(77)\n",
    "pids_test = random.sample(pids, int(len(pids) / 4))\n",
    "pids_train = [pid for pid in pids if pid not in pids_test]"
   ]
  },
  {
   "cell_type": "code",
   "execution_count": 25,
   "metadata": {},
   "outputs": [
    {
     "name": "stderr",
     "output_type": "stream",
     "text": [
      "100%|██████████████████████████████████████████████████████████████████████████████████| 36/36 [00:13<00:00,  2.69it/s]\n",
      "100%|██████████████████████████████████████████████████████████████████████████████████| 12/12 [00:02<00:00,  5.57it/s]"
     ]
    },
    {
     "name": "stdout",
     "output_type": "stream",
     "text": [
      "Shape of train dataset: \n",
      " X: (82168, 2160) \n",
      " Y: (82168, 1) \n",
      " symbol: 82168 \n",
      "\n",
      "Shape of test dataset: \n",
      " X: (26931, 2160) \n",
      " Y: (26931, 1) \n",
      " symbol: 26931 \n",
      "\n"
     ]
    },
    {
     "name": "stderr",
     "output_type": "stream",
     "text": [
      "\n"
     ]
    }
   ],
   "source": [
    "# build dataset\n",
    "X_train, Y_train, symbol_train = build_dataset(pids_train, \n",
    "                                               window_size, \n",
    "                                               frequency, \n",
    "                                               abnormal)\n",
    "X_test, Y_test, symbol_test = build_dataset(pids_test,\n",
    "                                              window_size,\n",
    "                                              frequency,\n",
    "                                              abnormal)\n",
    "\n",
    "print(\"Shape of train dataset: \\n X: {} \\n Y: {} \\n symbol: {} \\n\".format(\n",
    "X_train.shape, Y_train.shape, len(symbol_train)))\n",
    "print(\"Shape of test dataset: \\n X: {} \\n Y: {} \\n symbol: {} \\n\".format(\n",
    "X_test.shape, Y_test.shape, len(symbol_test)))"
   ]
  },
  {
   "cell_type": "code",
   "execution_count": 26,
   "metadata": {},
   "outputs": [
    {
     "name": "stdout",
     "output_type": "stream",
     "text": [
      "['/' 'A' 'E' 'F' 'J' 'L' 'N' 'R' 'S' 'V' 'a' 'e' 'f' 'j']\n",
      "['/' 'A' 'F' 'L' 'N' 'R' 'V' 'a' 'j']\n"
     ]
    }
   ],
   "source": [
    "# train / test set symbol 확인\n",
    "print(np.unique(symbol_train))\n",
    "print(np.unique(symbol_test))"
   ]
  },
  {
   "cell_type": "code",
   "execution_count": 27,
   "metadata": {},
   "outputs": [
    {
     "name": "stdout",
     "output_type": "stream",
     "text": [
      "30.569 %\n",
      "34.109 %\n"
     ]
    }
   ],
   "source": [
    "# train과 test set의 abnormal 비율 확인\n",
    "print('{:.3f} %'.format((Y_train.sum() / len(Y_train))* 100))\n",
    "print('{:.3f} %'.format((Y_test.sum() / len(Y_test))* 100))"
   ]
  },
  {
   "cell_type": "markdown",
   "metadata": {},
   "source": [
    "---------"
   ]
  },
  {
   "cell_type": "markdown",
   "metadata": {},
   "source": [
    "## 4. Deep Learning model training - binary classification"
   ]
  },
  {
   "cell_type": "code",
   "execution_count": 28,
   "metadata": {},
   "outputs": [
    {
     "name": "stderr",
     "output_type": "stream",
     "text": [
      "Using TensorFlow backend.\n"
     ]
    }
   ],
   "source": [
    "from keras.models import Sequential\n",
    "from keras.layers import Dense, Flatten, Dropout\n",
    "from keras import optimizers"
   ]
  },
  {
   "cell_type": "markdown",
   "metadata": {},
   "source": [
    "#### 4-1. Define Fully Connected Network"
   ]
  },
  {
   "cell_type": "code",
   "execution_count": 29,
   "metadata": {},
   "outputs": [],
   "source": [
    "fcn_model = Sequential()\n",
    "fcn_model.add(Dense(512, activation = 'relu'))\n",
    "fcn_model.add(Dropout(rate=0.25))\n",
    "fcn_model.add(Dense(128, activation = 'relu'))\n",
    "fcn_model.add(Dropout(rate=0.25))\n",
    "fcn_model.add(Dense(1, activation='sigmoid'))\n",
    "\n",
    "adam_optimizer = optimizers.Adam(lr=0.00005)\n",
    "fcn_model.compile(loss='binary_crossentropy', optimizer=adam_optimizer, metrics=['accuracy'])"
   ]
  },
  {
   "cell_type": "markdown",
   "metadata": {},
   "source": [
    "#### 4-2. Model fitting"
   ]
  },
  {
   "cell_type": "code",
   "execution_count": 31,
   "metadata": {},
   "outputs": [
    {
     "name": "stdout",
     "output_type": "stream",
     "text": [
      "WARNING:tensorflow:From C:\\Users\\MI2RL-KHJ\\anaconda3\\envs\\ecg_env\\lib\\site-packages\\tensorflow\\python\\ops\\nn_impl.py:180: add_dispatch_support.<locals>.wrapper (from tensorflow.python.ops.array_ops) is deprecated and will be removed in a future version.\n",
      "Instructions for updating:\n",
      "Use tf.where in 2.0, which has the same broadcast rule as np.where\n",
      "WARNING:tensorflow:From C:\\Users\\MI2RL-KHJ\\anaconda3\\envs\\ecg_env\\lib\\site-packages\\keras\\backend\\tensorflow_backend.py:422: The name tf.global_variables is deprecated. Please use tf.compat.v1.global_variables instead.\n",
      "\n",
      "Train on 65734 samples, validate on 16434 samples\n",
      "Epoch 1/10\n",
      "65734/65734 [==============================] - 3s 49us/step - loss: 0.5596 - accuracy: 0.7277 - val_loss: 0.3947 - val_accuracy: 0.8576\n",
      "Epoch 2/10\n",
      "65734/65734 [==============================] - 3s 47us/step - loss: 0.4052 - accuracy: 0.8339 - val_loss: 0.3406 - val_accuracy: 0.8724\n",
      "Epoch 3/10\n",
      "65734/65734 [==============================] - 3s 48us/step - loss: 0.3364 - accuracy: 0.8714 - val_loss: 0.3075 - val_accuracy: 0.8826\n",
      "Epoch 4/10\n",
      "65734/65734 [==============================] - 3s 50us/step - loss: 0.2878 - accuracy: 0.8953 - val_loss: 0.2760 - val_accuracy: 0.8990\n",
      "Epoch 5/10\n",
      "65734/65734 [==============================] - 3s 50us/step - loss: 0.2509 - accuracy: 0.9099 - val_loss: 0.2555 - val_accuracy: 0.907515 - accuracy: 0.90\n",
      "Epoch 6/10\n",
      "65734/65734 [==============================] - 3s 50us/step - loss: 0.2170 - accuracy: 0.9245 - val_loss: 0.2438 - val_accuracy: 0.9129\n",
      "Epoch 7/10\n",
      "65734/65734 [==============================] - 3s 50us/step - loss: 0.1929 - accuracy: 0.9340 - val_loss: 0.2393 - val_accuracy: 0.9172\n",
      "Epoch 8/10\n",
      "65734/65734 [==============================] - 3s 51us/step - loss: 0.1715 - accuracy: 0.9434 - val_loss: 0.2371 - val_accuracy: 0.9213\n",
      "Epoch 9/10\n",
      "65734/65734 [==============================] - 3s 50us/step - loss: 0.1550 - accuracy: 0.9501 - val_loss: 0.2361 - val_accuracy: 0.9226\n",
      "Epoch 10/10\n",
      "65734/65734 [==============================] - 3s 50us/step - loss: 0.1408 - accuracy: 0.9556 - val_loss: 0.2376 - val_accuracy: 0.9239\n"
     ]
    }
   ],
   "source": [
    "fcn_train_history = fcn_model.fit(X_train, Y_train, epochs=10, batch_size = batch_size, verbose=1,\n",
    "                         validation_split = 0.2)"
   ]
  },
  {
   "cell_type": "code",
   "execution_count": 33,
   "metadata": {},
   "outputs": [
    {
     "data": {
      "text/plain": [
       "<matplotlib.legend.Legend at 0x258a6aaf828>"
      ]
     },
     "execution_count": 33,
     "metadata": {},
     "output_type": "execute_result"
    },
    {
     "data": {
      "image/png": "[encoded data removed]",
      "text/plain": [
       "<Figure size 432x288 with 1 Axes>"
      ]
     },
     "metadata": {
      "needs_background": "light"
     },
     "output_type": "display_data"
    }
   ],
   "source": [
    "plt.plot(fcn_train_history.history['loss'])\n",
    "plt.plot(fcn_train_history.history['val_loss'])\n",
    "plt.title('model loss')\n",
    "plt.ylabel('accuracy')\n",
    "plt.xlabel('epoch')\n",
    "plt.legend(['train', 'valid'], loc='upper left')"
   ]
  },
  {
   "cell_type": "code",
   "execution_count": 32,
   "metadata": {},
   "outputs": [
    {
     "data": {
      "text/plain": [
       "<matplotlib.legend.Legend at 0x258a6a48400>"
      ]
     },
     "execution_count": 32,
     "metadata": {},
     "output_type": "execute_result"
    },
    {
     "data": {
      "image/png": "[encoded data removed]",
      "text/plain": [
       "<Figure size 432x288 with 1 Axes>"
      ]
     },
     "metadata": {
      "needs_background": "light"
     },
     "output_type": "display_data"
    }
   ],
   "source": [
    "plt.plot(fcn_train_history.history['accuracy'])\n",
    "plt.plot(fcn_train_history.history['val_accuracy'])\n",
    "plt.title('model accuracy')\n",
    "plt.ylabel('accuracy')\n",
    "plt.xlabel('epoch')\n",
    "plt.legend(['train', 'valid'], loc='upper left')"
   ]
  },
  {
   "cell_type": "markdown",
   "metadata": {},
   "source": [
    "#### 4-4. Result"
   ]
  },
  {
   "cell_type": "code",
   "execution_count": 34,
   "metadata": {},
   "outputs": [],
   "source": [
    "fcn_result = fcn_model.predict_classes(X_test)"
   ]
  },
  {
   "cell_type": "code",
   "execution_count": 35,
   "metadata": {},
   "outputs": [
    {
     "name": "stdout",
     "output_type": "stream",
     "text": [
      "              precision    recall  f1-score   support\n",
      "\n",
      "      normal       0.78      0.98      0.86     17745\n",
      "    abnormal       0.91      0.45      0.60      9186\n",
      "\n",
      "    accuracy                           0.80     26931\n",
      "   macro avg       0.84      0.71      0.73     26931\n",
      "weighted avg       0.82      0.80      0.78     26931\n",
      "\n"
     ]
    }
   ],
   "source": [
    "print(classification_report(Y_test, fcn_result, target_names=['normal', 'abnormal']))"
   ]
  }
 ],
 "metadata": {
  "kernelspec": {
   "display_name": "Python 3",
   "language": "python",
   "name": "python3"
  },
  "language_info": {
   "codemirror_mode": {
    "name": "ipython",
    "version": 3
   },
   "file_extension": ".py",
   "mimetype": "text/x-python",
   "name": "python",
   "nbconvert_exporter": "python",
   "pygments_lexer": "ipython3",
   "version": "3.6.10"
  }
 },
 "nbformat": 4,
 "nbformat_minor": 4
}
