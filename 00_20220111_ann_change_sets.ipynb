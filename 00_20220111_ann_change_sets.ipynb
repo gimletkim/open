{
 "cells": [
  {
   "cell_type": "code",
   "execution_count": 2,
   "metadata": {},
   "outputs": [],
   "source": [
    "import pandas as pd\n",
    "import numpy as np\n",
    "import matplotlib\n",
    "%matplotlib inline\n",
    "import matplotlib.pylab as plt\n",
    "import os\n",
    "import sys\n",
    "import glob\n",
    "import tqdm\n",
    "import random\n",
    "from itertools import cycle\n",
    "import warnings\n",
    "warnings.filterwarnings(action='ignore')\n",
    "\n",
    "import wfdb\n",
    "\n",
    "from sklearn.metrics import roc_auc_score, roc_curve, classification_report, auc\n",
    "from sklearn.preprocessing import label_binarize"
   ]
  },
  {
   "cell_type": "code",
   "execution_count": 1,
   "metadata": {},
   "outputs": [],
   "source": [
    "# 6초의 segment로 데이터 구축\n",
    "window_size = 6\n",
    "frequency = 360\n",
    "batch_size = 1000"
   ]
  },
  {
   "cell_type": "code",
   "execution_count": 3,
   "metadata": {},
   "outputs": [],
   "source": [
    "datapath = r'c:/users/MI2RL-KHJ/workspace_signal/physionet_raw/mit-bih-arrhythmia-database-1.0.0'"
   ]
  },
  {
   "cell_type": "code",
   "execution_count": 4,
   "metadata": {},
   "outputs": [],
   "source": [
    "header_files = [os.path.basename(x) for x in glob.glob(os.path.join(datapath, '*.hea'))]\n",
    "pids = sorted([x.split('.')[0] for x in header_files])"
   ]
  },
  {
   "cell_type": "code",
   "execution_count": 6,
   "metadata": {},
   "outputs": [],
   "source": [
    "# # dataset split\n",
    "# random.seed(77)\n",
    "# pids_test = random.sample(pids, int(len(pids) / 4))\n",
    "# pids_train = [pid for pid in pids if pid not in pids_test]"
   ]
  },
  {
   "cell_type": "code",
   "execution_count": 7,
   "metadata": {},
   "outputs": [
    {
     "data": {
      "text/plain": [
       "12"
      ]
     },
     "execution_count": 7,
     "metadata": {},
     "output_type": "execute_result"
    }
   ],
   "source": [
    "len(pids_test)"
   ]
  },
  {
   "cell_type": "code",
   "execution_count": 9,
   "metadata": {},
   "outputs": [],
   "source": [
    "pids_test_org = pids_test "
   ]
  },
  {
   "cell_type": "code",
   "execution_count": 13,
   "metadata": {},
   "outputs": [],
   "source": [
    "# annotation 파일 불러와서 label의 분포 확인\n",
    "df = pd.DataFrame()\n",
    "\n",
    "for pid in pids:\n",
    "    file = os.path.join(datapath, pid)\n",
    "    annotation = wfdb.rdann(os.path.join(file), 'atr')\n",
    "    symbols = annotation.symbol\n",
    "    \n",
    "    values, cnts = np.unique(symbols, return_counts=True)\n",
    "    df_sub = pd.DataFrame({'symbol': values, 'value': cnts, 'pid':[pid] * len(cnts)})\n",
    "    df = pd.concat([df, df_sub], axis=0)"
   ]
  },
  {
   "cell_type": "code",
   "execution_count": 14,
   "metadata": {},
   "outputs": [
    {
     "data": {
      "text/plain": [
       "symbol\n",
       "N    75052\n",
       "L     8075\n",
       "R     7259\n",
       "V     7130\n",
       "/     7028\n",
       "A     2546\n",
       "+     1291\n",
       "f      982\n",
       "F      803\n",
       "~      616\n",
       "!      472\n",
       "\"      437\n",
       "j      229\n",
       "x      193\n",
       "a      150\n",
       "|      132\n",
       "E      106\n",
       "J       83\n",
       "Q       33\n",
       "e       16\n",
       "[        6\n",
       "]        6\n",
       "S        2\n",
       "Name: value, dtype: int64"
      ]
     },
     "execution_count": 14,
     "metadata": {},
     "output_type": "execute_result"
    }
   ],
   "source": [
    "# Annotation 파일의 분포\n",
    "df.groupby('symbol').value.sum().sort_values(ascending = False)"
   ]
  },
  {
   "cell_type": "code",
   "execution_count": 15,
   "metadata": {},
   "outputs": [],
   "source": [
    "# list of nonbeat and abnormal\n",
    "nonbeat = ['[','!',']','x','(',')','p','t','u','`',\n",
    "           '\\'','^','|','~','+','s','T','*','D','=','\"','@','Q','?']\n",
    "abnormal = ['L','R','V','/','A','f','F','j','a','E','J','e','S']"
   ]
  },
  {
   "cell_type": "code",
   "execution_count": 16,
   "metadata": {},
   "outputs": [],
   "source": [
    "# normal, abnormal, nonbeat의 비율 구성 확인\n",
    "df['type'] = -1 # nonbeat\n",
    "df.loc[df.symbol == 'N', 'type'] = 0 # normal\n",
    "df.loc[df.symbol.isin(abnormal), 'type'] = 1 # abnormal"
   ]
  },
  {
   "cell_type": "code",
   "execution_count": 17,
   "metadata": {},
   "outputs": [],
   "source": [
    "df['type2'] = 'Non-beat' # nonbeat\n",
    "df.loc[df.symbol == 'N', 'type2'] = 'Normal' # normal\n",
    "df.loc[df.symbol.isin(abnormal), 'type2'] = 'Abnormal' # abnormal"
   ]
  },
  {
   "cell_type": "code",
   "execution_count": 18,
   "metadata": {},
   "outputs": [],
   "source": [
    "# load single patient's ecg signal and annotation\n",
    "def load_ecg(file):\n",
    "    \"\"\"\n",
    "    wfdb.rdrecord 를 이용해서 ecg 파일을 읽어옵니다.\n",
    "    \"\"\"\n",
    "    \n",
    "    # load the ecg\n",
    "    record = wfdb.rdrecord(file)\n",
    "    # load the annotation\n",
    "    annotation = wfdb.rdann(file, 'atr')\n",
    "    \n",
    "    # extract the signal\n",
    "    p_signal = record.p_signal\n",
    "    \n",
    "    # verify frequency is 360\n",
    "    assert record.fs == 360, 'sample freq is not 360'\n",
    "    \n",
    "    # extract symbols and annotation index\n",
    "    atr_sym = annotation.symbol\n",
    "    atr_index = annotation.sample\n",
    "    \n",
    "    return p_signal, atr_sym, atr_index\n",
    "\n",
    "# p_signal = raw ecg signal\n",
    "# atr_sym = annotation symbol\n",
    "# atr_sample = annotation index"
   ]
  },
  {
   "cell_type": "code",
   "execution_count": 19,
   "metadata": {},
   "outputs": [
    {
     "data": {
      "text/plain": [
       "[<matplotlib.lines.Line2D at 0x28537031cf8>]"
      ]
     },
     "execution_count": 19,
     "metadata": {},
     "output_type": "execute_result"
    },
    {
     "data": {
      "image/png": "[encoded data removed]",
      "text/plain": [
       "<Figure size 432x288 with 1 Axes>"
      ]
     },
     "metadata": {
      "needs_background": "light"
     },
     "output_type": "display_data"
    }
   ],
   "source": [
    "file = os.path.join(datapath, pids[0])\n",
    "p_signal, atr_sym, atr_sample = load_ecg(file)\n",
    "plt.plot(p_signal[1000:2000, 0])"
   ]
  },
  {
   "cell_type": "code",
   "execution_count": 20,
   "metadata": {},
   "outputs": [
    {
     "data": {
      "text/plain": [
       "[2044, 66792, 74986, 99579, 128085, 170719, 279576, 305709, 307745, 312825]"
      ]
     },
     "execution_count": 20,
     "metadata": {},
     "output_type": "execute_result"
    }
   ],
   "source": [
    "ab_index = [b for a,b in zip(atr_sym,atr_sample) if a in abnormal][:10]\n",
    "ab_index"
   ]
  },
  {
   "cell_type": "code",
   "execution_count": 21,
   "metadata": {},
   "outputs": [],
   "source": [
    "def build_dataset(pids, window_size, freq, abnormal):\n",
    "    \"\"\"\n",
    "    딥러닝 모델 학습을 위한 데이터를 구축합니다.\n",
    "    \"\"\"\n",
    "    ncols = window_size * freq\n",
    "    X_merged = np.zeros((1, ncols))\n",
    "    Y_merged = np.zeros((1,1))\n",
    "    symbol_merged = []\n",
    "    \n",
    "    rows_per_pid = []\n",
    "    \n",
    "    for pid in tqdm.tqdm(pids):\n",
    "        \n",
    "        filename = os.path.join(datapath, pid)\n",
    "        p_signal, atr_sym, atr_sample = load_ecg(filename)\n",
    "        \n",
    "        p_signal = p_signal[:,0]\n",
    "        \n",
    "        # beat index (exclude non-beat)\n",
    "        beat_annotation_index = [x in (abnormal + ['N']) for x in atr_sym]\n",
    "        \n",
    "        X, Y, symbols = build_XY(signal=p_signal, \n",
    "                                 atr_sym = atr_sym, \n",
    "                                 atr_sample = atr_sample,\n",
    "                                 beat_index = beat_annotation_index, \n",
    "                                 nsec = window_size/2, \n",
    "                                 fs = freq,\n",
    "                                 ncols = ncols,\n",
    "                                 abnormal = abnormal)\n",
    "        \n",
    "        X_merged = np.append(X_merged, X, axis=0)\n",
    "        Y_merged = np.append(Y_merged, Y, axis=0)\n",
    "        symbol_merged = symbol_merged + symbols\n",
    "        rows_per_pid.append(Y.shape[0])\n",
    "        \n",
    "    # drop first zero rows\n",
    "    X_merged = X_merged[1:,:]\n",
    "    Y_merged = Y_merged[1:,:]\n",
    "    \n",
    "    # check sizes make sense\n",
    "    assert np.sum(rows_per_pid) == X_merged.shape[0], 'number of X, max_rows rows messed up'\n",
    "    assert Y_merged.shape[0] == X_merged.shape[0], 'number of X, Y rows messed up'\n",
    "    assert Y_merged.shape[0] == len(symbol_merged), 'number of Y, sym rows messed up'\n",
    "    \n",
    "    return X_merged, Y_merged, symbol_merged\n",
    "\n",
    "\n",
    "def build_XY(signal, atr_sym, atr_sample, beat_index, nsec, fs, ncols, abnormal):\n",
    "    \"\"\"\n",
    "    하나의 환자 id에서 signal과 annotation을 추출합니다.\n",
    "    \"\"\"\n",
    "    \n",
    "    num_rows = len(beat_index)\n",
    "\n",
    "    X = np.zeros((num_rows, ncols))\n",
    "    Y = np.zeros((num_rows,1))\n",
    "    symbols = []\n",
    "    \n",
    "    # keep track of rows\n",
    "    max_row = 0\n",
    "    \n",
    "    beat_atr_sym = np.array(atr_sym)[beat_index]\n",
    "    beat_atr_sample = np.array(atr_sample)[beat_index]\n",
    "\n",
    "    for sym, samp in zip(beat_atr_sym, beat_atr_sample):\n",
    "\n",
    "        left = int(max([0,(samp - nsec*fs) ]))\n",
    "        right = int(min([len(signal),(samp + nsec*fs) ]))\n",
    "        \n",
    "        x = signal[left: right]\n",
    "        if len(x) == ncols:\n",
    "            X[max_row,:] = x\n",
    "            Y[max_row,:] = int(sym in abnormal)\n",
    "            symbols.append(sym)\n",
    "            max_row += 1\n",
    "    X = X[:max_row,:]\n",
    "    Y = Y[:max_row,:]\n",
    "    return X, Y, symbols"
   ]
  },
  {
   "cell_type": "code",
   "execution_count": 11,
   "metadata": {},
   "outputs": [],
   "source": [
    "pids_test = ['106','119','223','200','208','233','212','201','203','209','213','217'] \n",
    "len(pids_test)\n",
    "pids_train = [pid for pid in pids if pid not in pids_test]"
   ]
  },
  {
   "cell_type": "code",
   "execution_count": 22,
   "metadata": {},
   "outputs": [
    {
     "name": "stderr",
     "output_type": "stream",
     "text": [
      "100%|██████████████████████████████████████████████████████████████████████████████████| 36/36 [00:13<00:00,  2.71it/s]\n",
      "100%|██████████████████████████████████████████████████████████████████████████████████| 12/12 [00:02<00:00,  4.78it/s]"
     ]
    },
    {
     "name": "stdout",
     "output_type": "stream",
     "text": [
      "Shape of train dataset: \n",
      " X: (77792, 2160) \n",
      " Y: (77792, 1) \n",
      " symbol: 77792 \n",
      "\n",
      "Shape of test dataset: \n",
      " X: (31307, 2160) \n",
      " Y: (31307, 1) \n",
      " symbol: 31307 \n",
      "\n"
     ]
    },
    {
     "name": "stderr",
     "output_type": "stream",
     "text": [
      "\n"
     ]
    }
   ],
   "source": [
    "# build dataset\n",
    "X_train, Y_train, symbol_train = build_dataset(pids_train, \n",
    "                                               window_size, \n",
    "                                               frequency, \n",
    "                                               abnormal)\n",
    "X_test, Y_test, symbol_test = build_dataset(pids_test,\n",
    "                                              window_size,\n",
    "                                              frequency,\n",
    "                                              abnormal)\n",
    "\n",
    "print(\"Shape of train dataset: \\n X: {} \\n Y: {} \\n symbol: {} \\n\".format(\n",
    "X_train.shape, Y_train.shape, len(symbol_train)))\n",
    "print(\"Shape of test dataset: \\n X: {} \\n Y: {} \\n symbol: {} \\n\".format(\n",
    "X_test.shape, Y_test.shape, len(symbol_test)))"
   ]
  },
  {
   "cell_type": "code",
   "execution_count": 23,
   "metadata": {},
   "outputs": [
    {
     "name": "stdout",
     "output_type": "stream",
     "text": [
      "['/' 'A' 'E' 'F' 'J' 'L' 'N' 'R' 'V' 'a' 'f' 'j']\n",
      "['/' 'A' 'F' 'J' 'N' 'R' 'S' 'V' 'a' 'e' 'f' 'j']\n"
     ]
    }
   ],
   "source": [
    "# train / test set symbol 확인\n",
    "print(np.unique(symbol_train))\n",
    "print(np.unique(symbol_test))"
   ]
  },
  {
   "cell_type": "code",
   "execution_count": 24,
   "metadata": {},
   "outputs": [
    {
     "name": "stdout",
     "output_type": "stream",
     "text": [
      "31.038 %\n",
      "32.450 %\n"
     ]
    }
   ],
   "source": [
    "# train과 test set의 abnormal 비율 확인\n",
    "print('{:.3f} %'.format((Y_train.sum() / len(Y_train))* 100))\n",
    "print('{:.3f} %'.format((Y_test.sum() / len(Y_test))* 100))"
   ]
  },
  {
   "cell_type": "code",
   "execution_count": 25,
   "metadata": {},
   "outputs": [
    {
     "name": "stderr",
     "output_type": "stream",
     "text": [
      "Using TensorFlow backend.\n"
     ]
    }
   ],
   "source": [
    "from keras.models import Sequential\n",
    "from keras.layers import Dense, Flatten, Dropout\n",
    "from keras import optimizers"
   ]
  },
  {
   "cell_type": "code",
   "execution_count": 26,
   "metadata": {},
   "outputs": [],
   "source": [
    "fcn_model = Sequential()\n",
    "fcn_model.add(Dense(512, activation = 'relu'))\n",
    "fcn_model.add(Dropout(rate=0.25))\n",
    "fcn_model.add(Dense(128, activation = 'relu'))\n",
    "fcn_model.add(Dropout(rate=0.25))\n",
    "fcn_model.add(Dense(1, activation='sigmoid'))\n",
    "\n",
    "adam_optimizer = optimizers.Adam(lr=0.00005)\n",
    "fcn_model.compile(loss='binary_crossentropy', optimizer=adam_optimizer, metrics=['accuracy'])"
   ]
  },
  {
   "cell_type": "code",
   "execution_count": 27,
   "metadata": {},
   "outputs": [
    {
     "name": "stdout",
     "output_type": "stream",
     "text": [
      "WARNING:tensorflow:From C:\\Users\\MI2RL-KHJ\\anaconda3\\envs\\ecg_env\\lib\\site-packages\\tensorflow\\python\\ops\\nn_impl.py:180: add_dispatch_support.<locals>.wrapper (from tensorflow.python.ops.array_ops) is deprecated and will be removed in a future version.\n",
      "Instructions for updating:\n",
      "Use tf.where in 2.0, which has the same broadcast rule as np.where\n",
      "WARNING:tensorflow:From C:\\Users\\MI2RL-KHJ\\anaconda3\\envs\\ecg_env\\lib\\site-packages\\keras\\backend\\tensorflow_backend.py:422: The name tf.global_variables is deprecated. Please use tf.compat.v1.global_variables instead.\n",
      "\n",
      "Train on 62233 samples, validate on 15559 samples\n",
      "Epoch 1/10\n",
      "62233/62233 [==============================] - 3s 52us/step - loss: 0.5496 - accuracy: 0.7453 - val_loss: 0.5493 - val_accuracy: 0.7245\n",
      "Epoch 2/10\n",
      "62233/62233 [==============================] - 3s 51us/step - loss: 0.3742 - accuracy: 0.8569 - val_loss: 0.4853 - val_accuracy: 0.7311\n",
      "Epoch 3/10\n",
      "62233/62233 [==============================] - 3s 52us/step - loss: 0.2892 - accuracy: 0.8960 - val_loss: 0.4748 - val_accuracy: 0.7409\n",
      "Epoch 4/10\n",
      "62233/62233 [==============================] - 3s 50us/step - loss: 0.2381 - accuracy: 0.9162 - val_loss: 0.4774 - val_accuracy: 0.7514\n",
      "Epoch 5/10\n",
      "62233/62233 [==============================] - 3s 50us/step - loss: 0.2041 - accuracy: 0.9289 - val_loss: 0.4866 - val_accuracy: 0.7551\n",
      "Epoch 6/10\n",
      "62233/62233 [==============================] - 3s 51us/step - loss: 0.1792 - accuracy: 0.9376 - val_loss: 0.4916 - val_accuracy: 0.7601\n",
      "Epoch 7/10\n",
      "62233/62233 [==============================] - 3s 50us/step - loss: 0.1566 - accuracy: 0.9460 - val_loss: 0.5129 - val_accuracy: 0.7621\n",
      "Epoch 8/10\n",
      "62233/62233 [==============================] - 3s 50us/step - loss: 0.1406 - accuracy: 0.9526 - val_loss: 0.4898 - val_accuracy: 0.7657\n",
      "Epoch 9/10\n",
      "62233/62233 [==============================] - 3s 50us/step - loss: 0.1269 - accuracy: 0.9589 - val_loss: 0.4964 - val_accuracy: 0.7671s - loss:\n",
      "Epoch 10/10\n",
      "62233/62233 [==============================] - 3s 51us/step - loss: 0.1167 - accuracy: 0.9623 - val_loss: 0.5125 - val_accuracy: 0.7681\n"
     ]
    }
   ],
   "source": [
    "fcn_train_history = fcn_model.fit(X_train, Y_train, epochs=10, batch_size = batch_size, verbose=1,\n",
    "                         validation_split = 0.2)"
   ]
  },
  {
   "cell_type": "code",
   "execution_count": 28,
   "metadata": {},
   "outputs": [
    {
     "data": {
      "text/plain": [
       "<matplotlib.legend.Legend at 0x285928556d8>"
      ]
     },
     "execution_count": 28,
     "metadata": {},
     "output_type": "execute_result"
    },
    {
     "data": {
      "image/png": "[encoded data removed]",
      "text/plain": [
       "<Figure size 432x288 with 1 Axes>"
      ]
     },
     "metadata": {
      "needs_background": "light"
     },
     "output_type": "display_data"
    }
   ],
   "source": [
    "plt.plot(fcn_train_history.history['loss'])\n",
    "plt.plot(fcn_train_history.history['val_loss'])\n",
    "plt.title('model loss')\n",
    "plt.ylabel('accuracy')\n",
    "plt.xlabel('epoch')\n",
    "plt.legend(['train', 'valid'], loc='upper left')"
   ]
  },
  {
   "cell_type": "code",
   "execution_count": 29,
   "metadata": {},
   "outputs": [
    {
     "data": {
      "text/plain": [
       "<matplotlib.legend.Legend at 0x285928cceb8>"
      ]
     },
     "execution_count": 29,
     "metadata": {},
     "output_type": "execute_result"
    },
    {
     "data": {
      "image/png": "[encoded data removed]",
      "text/plain": [
       "<Figure size 432x288 with 1 Axes>"
      ]
     },
     "metadata": {
      "needs_background": "light"
     },
     "output_type": "display_data"
    }
   ],
   "source": [
    "plt.plot(fcn_train_history.history['accuracy'])\n",
    "plt.plot(fcn_train_history.history['val_accuracy'])\n",
    "plt.title('model accuracy')\n",
    "plt.ylabel('accuracy')\n",
    "plt.xlabel('epoch')\n",
    "plt.legend(['train', 'valid'], loc='upper left')"
   ]
  },
  {
   "cell_type": "code",
   "execution_count": 30,
   "metadata": {},
   "outputs": [],
   "source": [
    "fcn_result = fcn_model.predict_classes(X_test)"
   ]
  },
  {
   "cell_type": "code",
   "execution_count": 31,
   "metadata": {},
   "outputs": [
    {
     "name": "stdout",
     "output_type": "stream",
     "text": [
      "              precision    recall  f1-score   support\n",
      "\n",
      "      normal       0.82      0.90      0.86     21148\n",
      "    abnormal       0.73      0.58      0.65     10159\n",
      "\n",
      "    accuracy                           0.80     31307\n",
      "   macro avg       0.77      0.74      0.75     31307\n",
      "weighted avg       0.79      0.80      0.79     31307\n",
      "\n"
     ]
    }
   ],
   "source": [
    "print(classification_report(Y_test, fcn_result, target_names=['normal', 'abnormal']))"
   ]
  }
 ],
 "metadata": {
  "kernelspec": {
   "display_name": "Python 3",
   "language": "python",
   "name": "python3"
  },
  "language_info": {
   "codemirror_mode": {
    "name": "ipython",
    "version": 3
   },
   "file_extension": ".py",
   "mimetype": "text/x-python",
   "name": "python",
   "nbconvert_exporter": "python",
   "pygments_lexer": "ipython3",
   "version": "3.6.10"
  }
 },
 "nbformat": 4,
 "nbformat_minor": 4
}
