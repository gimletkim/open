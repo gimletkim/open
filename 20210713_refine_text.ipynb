{
 "cells": [
  {
   "cell_type": "code",
   "execution_count": 36,
   "id": "8af8a0b3-52fa-460e-9a72-f7943506c47c",
   "metadata": {},
   "outputs": [],
   "source": [
    "import os \n",
    "import pandas as pd\n",
    "import numpy as np"
   ]
  },
  {
   "cell_type": "code",
   "execution_count": 3,
   "id": "a3ad4a39-cb8d-41d6-9269-9d517dfd6e9e",
   "metadata": {},
   "outputs": [],
   "source": [
    "os.chdir(r'C:\\Users\\MI2RL-KHJ\\mfds')"
   ]
  },
  {
   "cell_type": "code",
   "execution_count": 31,
   "id": "00b421d5-0e7d-433b-9c24-133234880985",
   "metadata": {
    "scrolled": true,
    "tags": []
   },
   "outputs": [
    {
     "name": "stdout",
     "output_type": "stream",
     "text": [
      "408\n",
      "치과용도포기\n"
     ]
    }
   ],
   "source": [
    "criterias = []\n",
    "descs = [] \n",
    "\n",
    "i = 0\n",
    "f= open('test.txt', 'rt', encoding='UTF8')\n",
    "for line in f.readlines():\n",
    "    i += 1\n",
    "    line = line.split(',')\n",
    "    line = [i.strip() for i in line]\n",
    "    #print(line)\n",
    "    \n",
    "    #print(line)\n",
    "    fs = ','.join(line)        #fs = full sentence\n",
    "    #print(fs)\n",
    "    \n",
    "    creteria = fs.split('\\t')[0]\n",
    "    try:\n",
    "        desc = fs.split('\\t')[1]\n",
    "    except:\n",
    "        desc = fs\n",
    "        print(i)\n",
    "        print(fs)\n",
    "    \n",
    "    #print(creteria)\n",
    "    #print(desc)\n",
    "    criterias.append(creteria)\n",
    "    descs.append(desc)"
   ]
  },
  {
   "cell_type": "code",
   "execution_count": 33,
   "id": "be9c0222-1934-4086-a1d0-877b02f7b829",
   "metadata": {},
   "outputs": [
    {
     "data": {
      "text/plain": [
       "'치과용도포기'"
      ]
     },
     "execution_count": 33,
     "metadata": {},
     "output_type": "execute_result"
    }
   ],
   "source": [
    "criterias[407]"
   ]
  },
  {
   "cell_type": "code",
   "execution_count": 34,
   "id": "0296e471-cbc0-4138-9ea9-cfc066a69670",
   "metadata": {},
   "outputs": [
    {
     "data": {
      "text/plain": [
       "'치과용도포기'"
      ]
     },
     "execution_count": 34,
     "metadata": {},
     "output_type": "execute_result"
    }
   ],
   "source": [
    "descs[407]"
   ]
  },
  {
   "cell_type": "code",
   "execution_count": 27,
   "id": "94ad37c7-168c-452b-99b6-49ccee1c5388",
   "metadata": {},
   "outputs": [],
   "source": [
    "import pandas as pd"
   ]
  },
  {
   "cell_type": "code",
   "execution_count": 37,
   "id": "52b206eb-5d96-44fb-8f88-76d910106740",
   "metadata": {},
   "outputs": [],
   "source": [
    "df = pd.DataFrame({'Product': criterias, 'Principle':descs})"
   ]
  },
  {
   "cell_type": "code",
   "execution_count": 39,
   "id": "2af16130-dfd5-4e23-8580-770c57828150",
   "metadata": {},
   "outputs": [
    {
     "data": {
      "text/plain": [
       "446"
      ]
     },
     "execution_count": 39,
     "metadata": {},
     "output_type": "execute_result"
    }
   ],
   "source": [
    "len(df)#.loc[403]"
   ]
  },
  {
   "cell_type": "code",
   "execution_count": 40,
   "id": "0b4f179b-5c17-47c0-8879-cffeef6465f5",
   "metadata": {},
   "outputs": [
    {
     "data": {
      "text/html": [
       "<div>\n",
       "<style scoped>\n",
       "    .dataframe tbody tr th:only-of-type {\n",
       "        vertical-align: middle;\n",
       "    }\n",
       "\n",
       "    .dataframe tbody tr th {\n",
       "        vertical-align: top;\n",
       "    }\n",
       "\n",
       "    .dataframe thead th {\n",
       "        text-align: right;\n",
       "    }\n",
       "</style>\n",
       "<table border=\"1\" class=\"dataframe\">\n",
       "  <thead>\n",
       "    <tr style=\"text-align: right;\">\n",
       "      <th></th>\n",
       "      <th>Product</th>\n",
       "      <th>Principle</th>\n",
       "    </tr>\n",
       "  </thead>\n",
       "  <tbody>\n",
       "    <tr>\n",
       "      <th>0</th>\n",
       "      <td>수지형체외식초음파프로브</td>\n",
       "      <td>형상 및 구조 - 개요 가. 제품의 명칭 1) 품목명 : 의료용프로브(A58020)...</td>\n",
       "    </tr>\n",
       "    <tr>\n",
       "      <th>1</th>\n",
       "      <td>침습형일회용의료용가이드</td>\n",
       "      <td>형상 및 구조 - 개요 기관용 튜브의 위치를 안내하기 위하여 사용하는 기구. - 1 -</td>\n",
       "    </tr>\n",
       "    <tr>\n",
       "      <th>2</th>\n",
       "      <td>수지형체외식초음파프로브</td>\n",
       "      <td>형상 및 구조 - 개요 본 탐촉자(Transducer)는 Siemens 초음파영상진...</td>\n",
       "    </tr>\n",
       "    <tr>\n",
       "      <th>3</th>\n",
       "      <td>수지형체외식초음파프로브</td>\n",
       "      <td>형상 및 구조 - 개요 본 탐촉자(Transducer)는 Siemens 초음파영상진...</td>\n",
       "    </tr>\n",
       "    <tr>\n",
       "      <th>4</th>\n",
       "      <td>수지형체외식초음파프로브</td>\n",
       "      <td>형상 및 구조 - 개요 본 탐촉자(Transducer)는 Siemens 초음파영상진...</td>\n",
       "    </tr>\n",
       "    <tr>\n",
       "      <th>...</th>\n",
       "      <td>...</td>\n",
       "      <td>...</td>\n",
       "    </tr>\n",
       "    <tr>\n",
       "      <th>441</th>\n",
       "      <td>일회용내시경주사침</td>\n",
       "      <td>모양 및 구조 - 작용원리 본 제품은 내시경과 함께 사용하는 기구로서 내시경 시술 ...</td>\n",
       "    </tr>\n",
       "    <tr>\n",
       "      <th>442</th>\n",
       "      <td>일회용내시경겸자</td>\n",
       "      <td>모양 및 구조 -작용원리 본 제품은 위장관 내시경 시술시 조직을 채취하는데 사용하는...</td>\n",
       "    </tr>\n",
       "    <tr>\n",
       "      <th>443</th>\n",
       "      <td>일회용내시경겸자</td>\n",
       "      <td>모양 및 구조 -작용원리 본 제품은 위장관 내시경 시술시 조직을 채취하는데 사용하는...</td>\n",
       "    </tr>\n",
       "    <tr>\n",
       "      <th>444</th>\n",
       "      <td>일회용내시경올가미</td>\n",
       "      <td>모양 및 구조 - 작용원리 본 제품은 위장관 내시경 시술시 조직을 제거하는데 사용하...</td>\n",
       "    </tr>\n",
       "    <tr>\n",
       "      <th>445</th>\n",
       "      <td>진공채혈관</td>\n",
       "      <td>모양 및 구조-작용원리 사용하는 채혈관이다. 전혈 검</td>\n",
       "    </tr>\n",
       "  </tbody>\n",
       "</table>\n",
       "<p>446 rows × 2 columns</p>\n",
       "</div>"
      ],
      "text/plain": [
       "          Product                                          Principle\n",
       "0    수지형체외식초음파프로브  형상 및 구조 - 개요 가. 제품의 명칭 1) 품목명 : 의료용프로브(A58020)...\n",
       "1    침습형일회용의료용가이드   형상 및 구조 - 개요 기관용 튜브의 위치를 안내하기 위하여 사용하는 기구. - 1 -\n",
       "2    수지형체외식초음파프로브  형상 및 구조 - 개요 본 탐촉자(Transducer)는 Siemens 초음파영상진...\n",
       "3    수지형체외식초음파프로브  형상 및 구조 - 개요 본 탐촉자(Transducer)는 Siemens 초음파영상진...\n",
       "4    수지형체외식초음파프로브  형상 및 구조 - 개요 본 탐촉자(Transducer)는 Siemens 초음파영상진...\n",
       "..            ...                                                ...\n",
       "441     일회용내시경주사침  모양 및 구조 - 작용원리 본 제품은 내시경과 함께 사용하는 기구로서 내시경 시술 ...\n",
       "442      일회용내시경겸자  모양 및 구조 -작용원리 본 제품은 위장관 내시경 시술시 조직을 채취하는데 사용하는...\n",
       "443      일회용내시경겸자  모양 및 구조 -작용원리 본 제품은 위장관 내시경 시술시 조직을 채취하는데 사용하는...\n",
       "444     일회용내시경올가미  모양 및 구조 - 작용원리 본 제품은 위장관 내시경 시술시 조직을 제거하는데 사용하...\n",
       "445         진공채혈관                      모양 및 구조-작용원리 사용하는 채혈관이다. 전혈 검\n",
       "\n",
       "[446 rows x 2 columns]"
      ]
     },
     "execution_count": 40,
     "metadata": {},
     "output_type": "execute_result"
    }
   ],
   "source": [
    "df.iloc[:,[0,1]]"
   ]
  },
  {
   "cell_type": "markdown",
   "id": "04072bb6-2b05-4f33-942e-4a912c34533a",
   "metadata": {},
   "source": [
    "### 다시!!!"
   ]
  },
  {
   "cell_type": "code",
   "execution_count": 279,
   "id": "fff12716-0e6a-4aaa-9c1e-49be0182f15f",
   "metadata": {},
   "outputs": [],
   "source": [
    "klist = ['구조 - 개요 ', '구조-개요 ', '구조 -개요 ', '구조- 개요 ']\n",
    "plist = ['구조 - 작용원리 ', '구조-작용원리', '구조 -작용원리 ', '구조- 작용원리 ']"
   ]
  },
  {
   "cell_type": "code",
   "execution_count": 405,
   "id": "db1f72e3-ec36-4946-828c-d6b9ab665bef",
   "metadata": {
    "scrolled": true,
    "tags": []
   },
   "outputs": [
    {
     "name": "stdout",
     "output_type": "stream",
     "text": [
      "k:33, p:368, t:6\n"
     ]
    }
   ],
   "source": [
    "ndf = pd.DataFrame(columns = ('product', 'criteria', 'content', 'full_content'))#, index = 'num')\n",
    "\n",
    "k = 0\n",
    "p = 0\n",
    "t = 0\n",
    "\n",
    "for i in range(len(df)):\n",
    "    prod = df.iloc[i,[0]] \n",
    "    prin = df.iloc[i,[1]]\n",
    "\n",
    "    if '작용원리' in prin['Principle']:\n",
    "        p += 1\n",
    "        try:\n",
    "            work = prin['Principle'].split('작용원리')[1].lstrip().replace('- 1 -','').rstrip()\n",
    "            #print('1:',work)\n",
    "            tmp_criteria = '작용원리'\n",
    "            workdf = pd.DataFrame([[prod['Product'], tmp_criteria, work, prin['Principle'].lstrip()]], columns = ['product', 'criteria', 'content','full_content'], index = [i])\n",
    "            ndf = ndf.append(workdf)\n",
    "        except:\n",
    "            work = prin['Principle'].lstrip().replace('- 1 -','').rstrip()\n",
    "            tmp_criteria = '작용원리'\n",
    "            workdf = pd.DataFrame([[prod['Product'], tmp_criteria, work, prin['Principle'].lstrip()]], columns = ['product', 'criteria', 'content','full_content'], index = [i])\n",
    "            ndf = ndf.append(workdf)  \n",
    "        \n",
    "    elif '개요' in prin['Principle']:\n",
    "        k += 1\n",
    "        try: \n",
    "            intro = prin['Principle'].split('개요')[1].lstrip().replace('- 1 -','').rstrip()\n",
    "            tmp_criteria = '개요'\n",
    "            introdf = pd.DataFrame([[prod['Product'], tmp_criteria, intro, prin['Principle'].lstrip()]], columns = ['product', 'criteria', 'content','full_content'], index = [i])\n",
    "            ndf = ndf.append(introdf)\n",
    "        except:\n",
    "            intro = prin['Principle'].lstrip().replace('- 1 -','').rstrip()\n",
    "            tmp_criteria = '개요'\n",
    "            introdf = pd.DataFrame([[prod['Product'], tmp_criteria, intro, prin['Principle'].lstrip()]], columns = ['product', 'criteria', 'content','full_content'], index = [i])\n",
    "            ndf = ndf.append(introdf)      \n",
    "    \n",
    "    elif i in [187, 198, 256, 296, 311, 351]:\n",
    "        t += 1\n",
    "        try:\n",
    "            work = prin['Principle'].split('작용 원리')[1].lstrip().replace('- 1 -','').rstrip()\n",
    "            #print('1:',work)\n",
    "            tmp_criteria = '작용원리'\n",
    "            workdf = pd.DataFrame([[prod['Product'], tmp_criteria, work, prin['Principle'].lstrip()]], columns = ['product', 'criteria', 'content','full_content'], index = [i])\n",
    "            ndf = ndf.append(workdf)\n",
    "        except:\n",
    "            work = prin['Principle'].lstrip().replace('- 1 -','').rstrip()\n",
    "            tmp_criteria = '작용원리'\n",
    "            workdf = pd.DataFrame([[prod['Product'], tmp_criteria, work, prin['Principle'].lstrip()]], columns = ['product', 'criteria', 'content','full_content'], index = [i])\n",
    "            ndf = ndf.append(workdf)      \n",
    "\n",
    "    \n",
    "        \n",
    "print('k:{}, p:{}, t:{}'.format(k,p,t))"
   ]
  },
  {
   "cell_type": "code",
   "execution_count": 395,
   "id": "a8fda821-9ee1-49aa-b2a4-16674feb31aa",
   "metadata": {},
   "outputs": [
    {
     "data": {
      "text/plain": [
       "401"
      ]
     },
     "execution_count": 395,
     "metadata": {},
     "output_type": "execute_result"
    }
   ],
   "source": [
    "187 Principle    치아 교정치료 시 브라켓이나 튜브를 잡아준다.\n",
    "Name: 187, dtype: object\n",
    "198 Principle    치과 교정용 재료를 보호 유지하거나 금속편 또는 와이어를 굴곡 하기 위해 사용하 는...\n",
    "Name: 198, dtype: object\n",
    "256 Principle    모양 및 구조 - 작용 원리 렌즈는 빛의 직진과 굴절의 성질을 이용하여 상을 확대,...\n",
    "Name: 256, dtype: object\n",
    "296 Principle    1. 모양 및 구조 (다양한 형태의 개창기구가 있음) 환부를 벌릴 때 사용하는 블레...\n",
    "Name: 296, dtype: object\n",
    "311 Principle    1) 1255HG 5“x 5” SafeTouch Dental Dam 6 boxes ...\n",
    "Name: 311, dtype: object\n",
    "351 Principle    모양 및 구조 - 작용 원리 Model : YFD5611 중앙집중식 브레이크 시스템...\n",
    "Name: 351, dtype: object"
   ]
  },
  {
   "cell_type": "code",
   "execution_count": 408,
   "id": "c03493f3-ee33-4056-8402-c038c371ee97",
   "metadata": {},
   "outputs": [],
   "source": [
    "ndf.to_csv('refinetest.txt', sep=',', columns = ['product', 'criteria', 'content', 'full_content'], index = True, encoding='utf-8')"
   ]
  },
  {
   "cell_type": "code",
   "execution_count": 69,
   "id": "5caeeab9-1037-44de-94d7-54532584b448",
   "metadata": {},
   "outputs": [
    {
     "data": {
      "text/plain": [
       "product                                                  혈액응고인자검사시약\n",
       "criteria                                                       작용원리\n",
       "content           본 제품은 사람 혈장(Trisodium citrate 첨가)에서 Factor II의...\n",
       "full_content      모양 및 구조 - 작용원리 본 제품은 사람 혈장(Trisodium citrate 첨...\n",
       "criteria_index                                                 10.0\n",
       "Name: 47, dtype: object"
      ]
     },
     "execution_count": 69,
     "metadata": {},
     "output_type": "execute_result"
    }
   ],
   "source": []
  },
  {
   "cell_type": "code",
   "execution_count": null,
   "id": "7dff16c1-b9c8-4c6b-a31a-a60b6c2173d7",
   "metadata": {},
   "outputs": [],
   "source": []
  },
  {
   "cell_type": "code",
   "execution_count": null,
   "id": "89a2e4e2-18e7-452f-a62c-492b4def42a8",
   "metadata": {},
   "outputs": [],
   "source": []
  },
  {
   "cell_type": "code",
   "execution_count": null,
   "id": "d07e047f-371b-44a0-ba82-c773eb8fd073",
   "metadata": {},
   "outputs": [],
   "source": []
  },
  {
   "cell_type": "code",
   "execution_count": 147,
   "id": "0d33bf70-6731-432a-b5fa-f34e2320b15d",
   "metadata": {},
   "outputs": [
    {
     "name": "stdout",
     "output_type": "stream",
     "text": [
      "k:33, p:404, t:9\n"
     ]
    }
   ],
   "source": [
    "ndf = pd.DataFrame(columns = ('product', 'criteria', 'content', 'criteria_index','full_content'))#, index = 'num')\n",
    "\n",
    "k = 0\n",
    "p = 0\n",
    "t = 0\n",
    "processed = []\n",
    "\n",
    "for i in range(len(df)):\n",
    "    prod = df.iloc[i,[0]] \n",
    "    prin = df.iloc[i,[1]]\n",
    "\n",
    "    if '작용원리' in prin['Principle']:\n",
    "        processed.append(i)\n",
    "        p += 1\n",
    "        pindex = prin['Principle'].find('작용원리')\n",
    "        if not i in [130, 245]:\n",
    "            if pindex < 20:\n",
    "                try:\n",
    "                    work = prin['Principle'].split('작용원리')[1].lstrip().replace('- 1 -','').rstrip()\n",
    "                    #print('1:',work)\n",
    "                    tmp_criteria = '작용원리'\n",
    "                    #print(len(work))\n",
    "                    workdf = pd.DataFrame([[prod['Product'], tmp_criteria, work, pindex, prin['Principle'].lstrip() ]], columns = ['product', 'criteria', 'content', 'criteria_index', 'full_content'], index = [i])\n",
    "                    ndf = ndf.append(workdf)\n",
    "                except:\n",
    "                    work = prin['Principle'].lstrip().replace('- 1 -','').rstrip()\n",
    "                    tmp_criteria = '작용원리'\n",
    "                    workdf = pd.DataFrame([[prod['Product'], tmp_criteria, work, pindex, prin['Principle'].lstrip() ]], columns = ['product', 'criteria', 'content', 'criteria_index', 'full_content'], index = [i])\n",
    "                    ndf = ndf.append(workdf)  \n",
    "            else: \n",
    "                work =  prin['Principle'].lstrip().replace('- 1 -','').rstrip()\n",
    "                workdf = pd.DataFrame([[prod['Product'], tmp_criteria, work, pindex, prin['Principle'].lstrip() ]], columns = ['product', 'criteria', 'content', 'criteria_index', 'full_content'], index = [i])\n",
    "                ndf = ndf.append(workdf)  \n",
    "        else: \n",
    "            work = prin['Principle'].split('작용원리')[2].lstrip().replace('- 1 -','').rstrip()\n",
    "            tmp_criteria = '작용원리'\n",
    "            workdf = pd.DataFrame([[prod['Product'], tmp_criteria, work, pindex, prin['Principle'].lstrip() ]], columns = ['product', 'criteria', 'content', 'criteria_index', 'full_content'], index = [i])\n",
    "            ndf = ndf.append(workdf) \n",
    "        \n",
    "        \n",
    "        \n",
    "        \n",
    "    elif '개요' in prin['Principle']:\n",
    "        processed.append(i)\n",
    "        k += 1\n",
    "        kindex = prin['Principle'].find('개요')\n",
    "        if kindex < 20:\n",
    "            try: \n",
    "                intro = prin['Principle'].split('개요')[1].lstrip().replace('- 1 -','').rstrip()\n",
    "                #print(intro)\n",
    "                tmp_criteria = '개요'\n",
    "                introdf = pd.DataFrame([[prod['Product'], tmp_criteria, intro, kindex, prin['Principle'].lstrip() ]], columns = ['product', 'criteria', 'content', 'criteria_index', 'full_content'], index = [i])\n",
    "                ndf = ndf.append(introdf)\n",
    "            except:\n",
    "                #print(prin['Principle'])\n",
    "                intro = prin['Principle'].lstrip().replace('- 1 -','').rstrip()\n",
    "                print(intro)\n",
    "                tmp_criteria = '개요'\n",
    "                introdf = pd.DataFrame([[prod['Product'], tmp_criteria, intro, kindex, prin['Principle'].lstrip() ]], columns = ['product', 'criteria', 'content', 'criteria_index', 'full_content'], index = [i])\n",
    "                ndf = ndf.append(introdf)\n",
    "        else:\n",
    "            intro =  prin['Principle'].lstrip().replace('- 1 -','').rstrip()\n",
    "            introdf = pd.DataFrame([[prod['Product'], tmp_criteria, intro, kindex, prin['Principle'].lstrip() ]], columns = ['product', 'criteria', 'content', 'criteria_index', 'full_content'], index = [i])\n",
    "            ndf = ndf.append(introdf)            \n",
    "            \n",
    "    \n",
    "    elif i in [187, 198, 256, 296, 311, 351, 407, 413, 420]:\n",
    "        processed.append(i)\n",
    "        tindex = prin['Principle'].find('작용 원리')\n",
    "        t += 1\n",
    "        if tindex < 20:\n",
    "            try:\n",
    "                work = prin['Principle'].split('작용 원리')[1].lstrip().replace('- 1 -','').rstrip()\n",
    "                #print('1:',work)\n",
    "                tmp_criteria = '작용원리'\n",
    "                workdf = pd.DataFrame([[prod['Product'], tmp_criteria, work, tindex, prin['Principle'].lstrip()]], columns = ['product', 'criteria', 'content', 'criteria_index', 'full_content'], index = [i])\n",
    "                ndf = ndf.append(workdf)\n",
    "            except:\n",
    "                work = prin['Principle'].lstrip().replace('- 1 -','').rstrip()\n",
    "                tmp_criteria = '작용원리'\n",
    "                workdf = pd.DataFrame([[prod['Product'], tmp_criteria, work, tindex, prin['Principle'].lstrip()]], columns = ['product', 'criteria', 'content', 'criteria_index', 'full_content'], index = [i])\n",
    "                ndf = ndf.append(workdf)      \n",
    "        else:\n",
    "            work =  prin['Principle'].lstrip().replace('- 1 -','').rstrip()\n",
    "            workdf = pd.DataFrame([[prod['Product'], tmp_criteria, work, tindex, prin['Principle'].lstrip()]], columns = ['product', 'criteria', 'content', 'criteria_index', 'full_content'], index = [i])\n",
    "            ndf = ndf.append(workdf)                \n",
    "\n",
    "print('k:{}, p:{}, t:{}'.format(k,p,t))"
   ]
  },
  {
   "cell_type": "code",
   "execution_count": 96,
   "id": "2e0b1b7c-2063-45e5-a343-a38e1988d35a",
   "metadata": {},
   "outputs": [
    {
     "data": {
      "text/plain": [
       "446"
      ]
     },
     "execution_count": 96,
     "metadata": {},
     "output_type": "execute_result"
    }
   ],
   "source": [
    "33 + 404 + 9"
   ]
  },
  {
   "cell_type": "code",
   "execution_count": 94,
   "id": "b25128a0-0161-4dcc-9d2c-0e07d394cb50",
   "metadata": {
    "scrolled": true,
    "tags": []
   },
   "outputs": [
    {
     "name": "stdout",
     "output_type": "stream",
     "text": [
      "407\n",
      "Product      치과용도포기\n",
      "Principle    치과용도포기\n",
      "Name: 407, dtype: object\n",
      "413\n",
      "Product      압박용밴드\n",
      "Principle        1\n",
      "Name: 413, dtype: object\n",
      "420\n",
      "Product                                                두피뇌파용전극\n",
      "Principle    별첨 1. 모양 및 구조 – 작용 원리 본 제품은 뇌파계 장비에 연결하여 뇌파 신호...\n",
      "Name: 420, dtype: object\n"
     ]
    }
   ],
   "source": [
    "for i in range(len(df)):\n",
    "    if not i in processed:\n",
    "        print(i)\n",
    "        print(df.loc[i])"
   ]
  },
  {
   "cell_type": "code",
   "execution_count": 100,
   "id": "60090c95-3a92-4e3f-8e13-04aa05bd0233",
   "metadata": {},
   "outputs": [
    {
     "data": {
      "text/html": [
       "<div>\n",
       "<style scoped>\n",
       "    .dataframe tbody tr th:only-of-type {\n",
       "        vertical-align: middle;\n",
       "    }\n",
       "\n",
       "    .dataframe tbody tr th {\n",
       "        vertical-align: top;\n",
       "    }\n",
       "\n",
       "    .dataframe thead th {\n",
       "        text-align: right;\n",
       "    }\n",
       "</style>\n",
       "<table border=\"1\" class=\"dataframe\">\n",
       "  <thead>\n",
       "    <tr style=\"text-align: right;\">\n",
       "      <th></th>\n",
       "      <th>product</th>\n",
       "      <th>criteria</th>\n",
       "      <th>content</th>\n",
       "      <th>criteria_index</th>\n",
       "      <th>full_content</th>\n",
       "    </tr>\n",
       "  </thead>\n",
       "  <tbody>\n",
       "    <tr>\n",
       "      <th>21</th>\n",
       "      <td>일회용내시경생검용기구</td>\n",
       "      <td>작용원리</td>\n",
       "      <td>1. 제품의 구성 § 일회용 가이드시스 § 일회용 내시경 생검용기구 § 일회용 세포...</td>\n",
       "      <td>148</td>\n",
       "      <td>본 제품은 당사 내시경과 조합하여 호흡기 조직이나 세포를 채취하기 위해 사용하며,(...</td>\n",
       "    </tr>\n",
       "    <tr>\n",
       "      <th>24</th>\n",
       "      <td>수지형체외식초음파프로브</td>\n",
       "      <td>작용원리</td>\n",
       "      <td>본 제품은 환자의 체표 위를 이동시켜 초음파 진단을 하는데 사용하는 수지형 장치인 ...</td>\n",
       "      <td>17</td>\n",
       "      <td>[별첨 1] 모양 및 구조 – 작용원리 본 제품은 환자의 체표 위를 이동시켜 초음파...</td>\n",
       "    </tr>\n",
       "    <tr>\n",
       "      <th>25</th>\n",
       "      <td>일회용의료용겸자</td>\n",
       "      <td>작용원리</td>\n",
       "      <td>제품이다. * 모델별 구성내역 K100004-Sterile Field 1EA,Lar...</td>\n",
       "      <td>71</td>\n",
       "      <td>진료 시 사용되는 기구로 Sterile Field,Dressing Tray,Forc...</td>\n",
       "    </tr>\n",
       "    <tr>\n",
       "      <th>86</th>\n",
       "      <td>면역검사범용정도관리물질Ⅱ</td>\n",
       "      <td>작용원리</td>\n",
       "      <td>① Oxyhemoglobin 측정원리 대로 hemoglobin이 산소와 결합하게 된...</td>\n",
       "      <td>126</td>\n",
       "      <td>Oxyhemoglobin은 산소와 결합된 hemoglobin이다. 산소와의 결합은 ...</td>\n",
       "    </tr>\n",
       "    <tr>\n",
       "      <th>110</th>\n",
       "      <td>치과용임플란트가이드</td>\n",
       "      <td>작용원리</td>\n",
       "      <td>1. Single Guide Bush 5~10mm 6종으로 구성되어 있다. 2. B...</td>\n",
       "      <td>60</td>\n",
       "      <td>Drilling 시 거리 및 방향을 알 수 있게 해주며,치아의 근원심경의 크기를 고...</td>\n",
       "    </tr>\n",
       "    <tr>\n",
       "      <th>127</th>\n",
       "      <td>임상검사범용정도관리물질Ⅲ</td>\n",
       "      <td>작용원리</td>\n",
       "      <td>항원-항체 반응이 일어남. ② 응집괴를 생성하여 탁도가 생김. ③ 응집괴는 면역반응...</td>\n",
       "      <td>56</td>\n",
       "      <td>① 검체 중 FDP와 시약 중의 항인 FDP 단일클론항체 감작 라텍스와 특이적으로 ...</td>\n",
       "    </tr>\n",
       "    <tr>\n",
       "      <th>128</th>\n",
       "      <td>면역검사범용정도관리물질Ⅲ</td>\n",
       "      <td>작용원리</td>\n",
       "      <td>이적으로 항원-항체반응이 일어남. ② 응집괴를 생성하여 탁도가 생김 ③ 응집괴는 면...</td>\n",
       "      <td>61</td>\n",
       "      <td>① 검체 중 측정 h-FABP와 시약 중의 항인 h-FABP 단일클론항체 감작 라텍...</td>\n",
       "    </tr>\n",
       "    <tr>\n",
       "      <th>129</th>\n",
       "      <td>면역검사범용정도관리물질Ⅲ</td>\n",
       "      <td>작용원리</td>\n",
       "      <td>이적으로 항원-항체반응이 일어남. ② 응집괴를 생성하여 탁도가 생김 ③ 응집괴는 면...</td>\n",
       "      <td>61</td>\n",
       "      <td>① 검체 중 측정 h-FABP와 시약 중의 항인 h-FABP 단일클론항체 감작 라텍...</td>\n",
       "    </tr>\n",
       "    <tr>\n",
       "      <th>188</th>\n",
       "      <td>기타전처리일체형시약</td>\n",
       "      <td>작용원리</td>\n",
       "      <td>- 자가융해를 통한 부패방지 - 조직구성 성분의 용해 및 용출 방지 - 부패방지를 ...</td>\n",
       "      <td>157</td>\n",
       "      <td>본 제품은 생체를 구성하는 조직을 자가융해를 통한 부패 및 조직성분을 경화하고,침전...</td>\n",
       "    </tr>\n",
       "    <tr>\n",
       "      <th>195</th>\n",
       "      <td>기타전처리일체형시약</td>\n",
       "      <td>작용원리</td>\n",
       "      <td>본 제품은 세균학적 검사 바이러스 검사 또는 분자적 진단 검사를 목적으로 세포 및 ...</td>\n",
       "      <td>38</td>\n",
       "      <td>SP2 ( SafePreservation 2) ■ 모양 및 구조 - 작용원리 본 제...</td>\n",
       "    </tr>\n",
       "    <tr>\n",
       "      <th>285</th>\n",
       "      <td>체외형의료용전극</td>\n",
       "      <td>작용원리</td>\n",
       "      <td>사용한다.</td>\n",
       "      <td>60</td>\n",
       "      <td>전기수술 시 활성전극에서 발생되어 환자에 적용된 고주파 에너지의 전기적 귀로를 제공...</td>\n",
       "    </tr>\n",
       "    <tr>\n",
       "      <th>307</th>\n",
       "      <td>부목</td>\n",
       "      <td>작용원리</td>\n",
       "      <td>허리부위의 지지력을 높인다.</td>\n",
       "      <td>53</td>\n",
       "      <td>-요추부위를 압박 고정하여 병변 부위의 부담을 감소시키고 이중밸트을 사용하여 모양 ...</td>\n",
       "    </tr>\n",
       "    <tr>\n",
       "      <th>384</th>\n",
       "      <td>재사용가능발조절식전기수술기용전극</td>\n",
       "      <td>작용원리</td>\n",
       "      <td>일어나게 된다.</td>\n",
       "      <td>111</td>\n",
       "      <td>전기수술기로부터 고주파(RF) 에너지가 전극에 통전되면,전극으로부터 고주파 전류가 ...</td>\n",
       "    </tr>\n",
       "    <tr>\n",
       "      <th>420</th>\n",
       "      <td>두피뇌파용전극</td>\n",
       "      <td>작용원리</td>\n",
       "      <td>본 제품은 뇌파계 장비에 연결하여 뇌파 신호를 전달하는 의료용 전극이다.</td>\n",
       "      <td>16</td>\n",
       "      <td>별첨 1. 모양 및 구조 – 작용 원리 본 제품은 뇌파계 장비에 연결하여 뇌파 신호...</td>\n",
       "    </tr>\n",
       "    <tr>\n",
       "      <th>427</th>\n",
       "      <td>개인용혈당측정기</td>\n",
       "      <td>작용원리</td>\n",
       "      <td>(1) 개인용혈당측정기 및 개인용혈당검사지의 호환성 연번 개인용혈당측정기 모델명 개...</td>\n",
       "      <td>26</td>\n",
       "      <td>1 2 3 4 5 6 군임. 모양 및 구조 - 작용원리 (1) 개인용혈당측정기 및 ...</td>\n",
       "    </tr>\n",
       "    <tr>\n",
       "      <th>431</th>\n",
       "      <td>흡인용튜브·카테터</td>\n",
       "      <td>작용원리</td>\n",
       "      <td>의 물질을 흡인하는 기구입니다. l 일회용입니다.</td>\n",
       "      <td>81</td>\n",
       "      <td>1. 모양 및 구조 흡인기 입구 흡입 압력조절부위 손잡이 부분 흡인용 튜브·카테터로...</td>\n",
       "    </tr>\n",
       "  </tbody>\n",
       "</table>\n",
       "</div>"
      ],
      "text/plain": [
       "               product criteria  \\\n",
       "21         일회용내시경생검용기구     작용원리   \n",
       "24        수지형체외식초음파프로브     작용원리   \n",
       "25            일회용의료용겸자     작용원리   \n",
       "86       면역검사범용정도관리물질Ⅱ     작용원리   \n",
       "110         치과용임플란트가이드     작용원리   \n",
       "127      임상검사범용정도관리물질Ⅲ     작용원리   \n",
       "128      면역검사범용정도관리물질Ⅲ     작용원리   \n",
       "129      면역검사범용정도관리물질Ⅲ     작용원리   \n",
       "188         기타전처리일체형시약     작용원리   \n",
       "195         기타전처리일체형시약     작용원리   \n",
       "285           체외형의료용전극     작용원리   \n",
       "307                 부목     작용원리   \n",
       "384  재사용가능발조절식전기수술기용전극     작용원리   \n",
       "420            두피뇌파용전극     작용원리   \n",
       "427           개인용혈당측정기     작용원리   \n",
       "431          흡인용튜브·카테터     작용원리   \n",
       "\n",
       "                                               content criteria_index  \\\n",
       "21   1. 제품의 구성 § 일회용 가이드시스 § 일회용 내시경 생검용기구 § 일회용 세포...            148   \n",
       "24   본 제품은 환자의 체표 위를 이동시켜 초음파 진단을 하는데 사용하는 수지형 장치인 ...             17   \n",
       "25   제품이다. * 모델별 구성내역 K100004-Sterile Field 1EA,Lar...             71   \n",
       "86   ① Oxyhemoglobin 측정원리 대로 hemoglobin이 산소와 결합하게 된...            126   \n",
       "110  1. Single Guide Bush 5~10mm 6종으로 구성되어 있다. 2. B...             60   \n",
       "127  항원-항체 반응이 일어남. ② 응집괴를 생성하여 탁도가 생김. ③ 응집괴는 면역반응...             56   \n",
       "128  이적으로 항원-항체반응이 일어남. ② 응집괴를 생성하여 탁도가 생김 ③ 응집괴는 면...             61   \n",
       "129  이적으로 항원-항체반응이 일어남. ② 응집괴를 생성하여 탁도가 생김 ③ 응집괴는 면...             61   \n",
       "188  - 자가융해를 통한 부패방지 - 조직구성 성분의 용해 및 용출 방지 - 부패방지를 ...            157   \n",
       "195  본 제품은 세균학적 검사 바이러스 검사 또는 분자적 진단 검사를 목적으로 세포 및 ...             38   \n",
       "285                                              사용한다.             60   \n",
       "307                                    허리부위의 지지력을 높인다.             53   \n",
       "384                                           일어나게 된다.            111   \n",
       "420           본 제품은 뇌파계 장비에 연결하여 뇌파 신호를 전달하는 의료용 전극이다.             16   \n",
       "427  (1) 개인용혈당측정기 및 개인용혈당검사지의 호환성 연번 개인용혈당측정기 모델명 개...             26   \n",
       "431                        의 물질을 흡인하는 기구입니다. l 일회용입니다.             81   \n",
       "\n",
       "                                          full_content  \n",
       "21   본 제품은 당사 내시경과 조합하여 호흡기 조직이나 세포를 채취하기 위해 사용하며,(...  \n",
       "24   [별첨 1] 모양 및 구조 – 작용원리 본 제품은 환자의 체표 위를 이동시켜 초음파...  \n",
       "25   진료 시 사용되는 기구로 Sterile Field,Dressing Tray,Forc...  \n",
       "86   Oxyhemoglobin은 산소와 결합된 hemoglobin이다. 산소와의 결합은 ...  \n",
       "110  Drilling 시 거리 및 방향을 알 수 있게 해주며,치아의 근원심경의 크기를 고...  \n",
       "127  ① 검체 중 FDP와 시약 중의 항인 FDP 단일클론항체 감작 라텍스와 특이적으로 ...  \n",
       "128  ① 검체 중 측정 h-FABP와 시약 중의 항인 h-FABP 단일클론항체 감작 라텍...  \n",
       "129  ① 검체 중 측정 h-FABP와 시약 중의 항인 h-FABP 단일클론항체 감작 라텍...  \n",
       "188  본 제품은 생체를 구성하는 조직을 자가융해를 통한 부패 및 조직성분을 경화하고,침전...  \n",
       "195  SP2 ( SafePreservation 2) ■ 모양 및 구조 - 작용원리 본 제...  \n",
       "285  전기수술 시 활성전극에서 발생되어 환자에 적용된 고주파 에너지의 전기적 귀로를 제공...  \n",
       "307  -요추부위를 압박 고정하여 병변 부위의 부담을 감소시키고 이중밸트을 사용하여 모양 ...  \n",
       "384  전기수술기로부터 고주파(RF) 에너지가 전극에 통전되면,전극으로부터 고주파 전류가 ...  \n",
       "420  별첨 1. 모양 및 구조 – 작용 원리 본 제품은 뇌파계 장비에 연결하여 뇌파 신호...  \n",
       "427  1 2 3 4 5 6 군임. 모양 및 구조 - 작용원리 (1) 개인용혈당측정기 및 ...  \n",
       "431  1. 모양 및 구조 흡인기 입구 흡입 압력조절부위 손잡이 부분 흡인용 튜브·카테터로...  "
      ]
     },
     "execution_count": 100,
     "metadata": {},
     "output_type": "execute_result"
    }
   ],
   "source": [
    "tmp = ndf[ndf['criteria_index'] > 10]\n",
    "tmp"
   ]
  },
  {
   "cell_type": "code",
   "execution_count": 118,
   "id": "f4de169a-fa55-46ad-aea1-b9476ad39055",
   "metadata": {},
   "outputs": [],
   "source": [
    "for i in tmp.index:\n",
    "    df.loc[i]\n",
    "    extradf = pd.DataFrame([[prod['Product'], tmp_criteria, work, tindex, prin['Principle'].lstrip()]], columns = ['product', 'criteria', 'content', 'criteria_index', 'full_content'], index = [i])"
   ]
  },
  {
   "cell_type": "code",
   "execution_count": null,
   "id": "c3f10efb-187f-4686-88b6-70f0400c8537",
   "metadata": {},
   "outputs": [],
   "source": []
  },
  {
   "cell_type": "code",
   "execution_count": 148,
   "id": "97aa2106-b1b4-45ce-9269-bbe75aa6c752",
   "metadata": {},
   "outputs": [
    {
     "data": {
      "text/html": [
       "<div>\n",
       "<style scoped>\n",
       "    .dataframe tbody tr th:only-of-type {\n",
       "        vertical-align: middle;\n",
       "    }\n",
       "\n",
       "    .dataframe tbody tr th {\n",
       "        vertical-align: top;\n",
       "    }\n",
       "\n",
       "    .dataframe thead th {\n",
       "        text-align: right;\n",
       "    }\n",
       "</style>\n",
       "<table border=\"1\" class=\"dataframe\">\n",
       "  <thead>\n",
       "    <tr style=\"text-align: right;\">\n",
       "      <th></th>\n",
       "      <th>product</th>\n",
       "      <th>criteria</th>\n",
       "      <th>content</th>\n",
       "      <th>criteria_index</th>\n",
       "      <th>full_content</th>\n",
       "    </tr>\n",
       "  </thead>\n",
       "  <tbody>\n",
       "    <tr>\n",
       "      <th>0</th>\n",
       "      <td>수지형체외식초음파프로브</td>\n",
       "      <td>개요</td>\n",
       "      <td>가. 제품의 명칭 1) 품목명 : 의료용프로브(A58020) 2) 등 급 : 1등급...</td>\n",
       "      <td>10</td>\n",
       "      <td>형상 및 구조 - 개요 가. 제품의 명칭 1) 품목명 : 의료용프로브(A58020)...</td>\n",
       "    </tr>\n",
       "    <tr>\n",
       "      <th>1</th>\n",
       "      <td>침습형일회용의료용가이드</td>\n",
       "      <td>개요</td>\n",
       "      <td>기관용 튜브의 위치를 안내하기 위하여 사용하는 기구.</td>\n",
       "      <td>10</td>\n",
       "      <td>형상 및 구조 - 개요 기관용 튜브의 위치를 안내하기 위하여 사용하는 기구. - 1 -</td>\n",
       "    </tr>\n",
       "    <tr>\n",
       "      <th>2</th>\n",
       "      <td>수지형체외식초음파프로브</td>\n",
       "      <td>개요</td>\n",
       "      <td>본 탐촉자(Transducer)는 Siemens 초음파영상진단장치 Sequoia에 ...</td>\n",
       "      <td>10</td>\n",
       "      <td>형상 및 구조 - 개요 본 탐촉자(Transducer)는 Siemens 초음파영상진...</td>\n",
       "    </tr>\n",
       "    <tr>\n",
       "      <th>3</th>\n",
       "      <td>수지형체외식초음파프로브</td>\n",
       "      <td>개요</td>\n",
       "      <td>본 탐촉자(Transducer)는 Siemens 초음파영상진단장치 SONOLINE ...</td>\n",
       "      <td>10</td>\n",
       "      <td>형상 및 구조 - 개요 본 탐촉자(Transducer)는 Siemens 초음파영상진...</td>\n",
       "    </tr>\n",
       "    <tr>\n",
       "      <th>4</th>\n",
       "      <td>수지형체외식초음파프로브</td>\n",
       "      <td>개요</td>\n",
       "      <td>본 탐촉자(Transducer)는 Siemens 초음파영상진단장치 Antrares에...</td>\n",
       "      <td>10</td>\n",
       "      <td>형상 및 구조 - 개요 본 탐촉자(Transducer)는 Siemens 초음파영상진...</td>\n",
       "    </tr>\n",
       "    <tr>\n",
       "      <th>...</th>\n",
       "      <td>...</td>\n",
       "      <td>...</td>\n",
       "      <td>...</td>\n",
       "      <td>...</td>\n",
       "      <td>...</td>\n",
       "    </tr>\n",
       "    <tr>\n",
       "      <th>441</th>\n",
       "      <td>일회용내시경주사침</td>\n",
       "      <td>작용원리</td>\n",
       "      <td>본 제품은 내시경과 함께 사용하는 기구로서 내시경 시술 시 지혈,경화,또는 경화요 ...</td>\n",
       "      <td>10</td>\n",
       "      <td>모양 및 구조 - 작용원리 본 제품은 내시경과 함께 사용하는 기구로서 내시경 시술 ...</td>\n",
       "    </tr>\n",
       "    <tr>\n",
       "      <th>442</th>\n",
       "      <td>일회용내시경겸자</td>\n",
       "      <td>작용원리</td>\n",
       "      <td>본 제품은 위장관 내시경 시술시 조직을 채취하는데 사용하는 일회용 내시경 겸자이 다...</td>\n",
       "      <td>9</td>\n",
       "      <td>모양 및 구조 -작용원리 본 제품은 위장관 내시경 시술시 조직을 채취하는데 사용하는...</td>\n",
       "    </tr>\n",
       "    <tr>\n",
       "      <th>443</th>\n",
       "      <td>일회용내시경겸자</td>\n",
       "      <td>작용원리</td>\n",
       "      <td>본 제품은 위장관 내시경 시술시 조직을 채취하는데 사용하는 일회용 내시경 겸자이다....</td>\n",
       "      <td>9</td>\n",
       "      <td>모양 및 구조 -작용원리 본 제품은 위장관 내시경 시술시 조직을 채취하는데 사용하는...</td>\n",
       "    </tr>\n",
       "    <tr>\n",
       "      <th>444</th>\n",
       "      <td>일회용내시경올가미</td>\n",
       "      <td>작용원리</td>\n",
       "      <td>본 제품은 위장관 내시경 시술시 조직을 제거하는데 사용하는 올가미 형태의 이물질 제...</td>\n",
       "      <td>10</td>\n",
       "      <td>모양 및 구조 - 작용원리 본 제품은 위장관 내시경 시술시 조직을 제거하는데 사용하...</td>\n",
       "    </tr>\n",
       "    <tr>\n",
       "      <th>445</th>\n",
       "      <td>진공채혈관</td>\n",
       "      <td>작용원리</td>\n",
       "      <td>사용하는 채혈관이다. 전혈 검</td>\n",
       "      <td>8</td>\n",
       "      <td>모양 및 구조-작용원리 사용하는 채혈관이다. 전혈 검</td>\n",
       "    </tr>\n",
       "  </tbody>\n",
       "</table>\n",
       "<p>446 rows × 5 columns</p>\n",
       "</div>"
      ],
      "text/plain": [
       "          product criteria                                            content  \\\n",
       "0    수지형체외식초음파프로브       개요  가. 제품의 명칭 1) 품목명 : 의료용프로브(A58020) 2) 등 급 : 1등급...   \n",
       "1    침습형일회용의료용가이드       개요                      기관용 튜브의 위치를 안내하기 위하여 사용하는 기구.   \n",
       "2    수지형체외식초음파프로브       개요  본 탐촉자(Transducer)는 Siemens 초음파영상진단장치 Sequoia에 ...   \n",
       "3    수지형체외식초음파프로브       개요  본 탐촉자(Transducer)는 Siemens 초음파영상진단장치 SONOLINE ...   \n",
       "4    수지형체외식초음파프로브       개요  본 탐촉자(Transducer)는 Siemens 초음파영상진단장치 Antrares에...   \n",
       "..            ...      ...                                                ...   \n",
       "441     일회용내시경주사침     작용원리  본 제품은 내시경과 함께 사용하는 기구로서 내시경 시술 시 지혈,경화,또는 경화요 ...   \n",
       "442      일회용내시경겸자     작용원리  본 제품은 위장관 내시경 시술시 조직을 채취하는데 사용하는 일회용 내시경 겸자이 다...   \n",
       "443      일회용내시경겸자     작용원리  본 제품은 위장관 내시경 시술시 조직을 채취하는데 사용하는 일회용 내시경 겸자이다....   \n",
       "444     일회용내시경올가미     작용원리  본 제품은 위장관 내시경 시술시 조직을 제거하는데 사용하는 올가미 형태의 이물질 제...   \n",
       "445         진공채혈관     작용원리                                   사용하는 채혈관이다. 전혈 검   \n",
       "\n",
       "    criteria_index                                       full_content  \n",
       "0               10  형상 및 구조 - 개요 가. 제품의 명칭 1) 품목명 : 의료용프로브(A58020)...  \n",
       "1               10   형상 및 구조 - 개요 기관용 튜브의 위치를 안내하기 위하여 사용하는 기구. - 1 -  \n",
       "2               10  형상 및 구조 - 개요 본 탐촉자(Transducer)는 Siemens 초음파영상진...  \n",
       "3               10  형상 및 구조 - 개요 본 탐촉자(Transducer)는 Siemens 초음파영상진...  \n",
       "4               10  형상 및 구조 - 개요 본 탐촉자(Transducer)는 Siemens 초음파영상진...  \n",
       "..             ...                                                ...  \n",
       "441             10  모양 및 구조 - 작용원리 본 제품은 내시경과 함께 사용하는 기구로서 내시경 시술 ...  \n",
       "442              9  모양 및 구조 -작용원리 본 제품은 위장관 내시경 시술시 조직을 채취하는데 사용하는...  \n",
       "443              9  모양 및 구조 -작용원리 본 제품은 위장관 내시경 시술시 조직을 채취하는데 사용하는...  \n",
       "444             10  모양 및 구조 - 작용원리 본 제품은 위장관 내시경 시술시 조직을 제거하는데 사용하...  \n",
       "445              8                      모양 및 구조-작용원리 사용하는 채혈관이다. 전혈 검  \n",
       "\n",
       "[446 rows x 5 columns]"
      ]
     },
     "execution_count": 148,
     "metadata": {},
     "output_type": "execute_result"
    }
   ],
   "source": [
    "ndf"
   ]
  },
  {
   "cell_type": "code",
   "execution_count": 133,
   "id": "04cc170d-9b10-4caf-9692-e24cb25f16d7",
   "metadata": {},
   "outputs": [
    {
     "name": "stdout",
     "output_type": "stream",
     "text": [
      "130 모양 및 구조 - 작용원리 1. 작용원리 개인용혈당측정시스템과 함께 사용되며,개인용체외진단검사시약Ⅱ에 고정되어 있는 효소와 대조용액 속의 포도당이 반응하여 발생된 전류를 혈당값으로 혈당측정기에 표시하여 주는 전기화학 방식입니다. 대조용액에는 일정량의 포도당 농도가 포함되어 있어 개인용혈당측정시스템으로 측정시 포도당의 농도가 정해진 값을 나타내는지를 확인 하여 측정기와 검사지가 정상적으로 작동하는지를 확인 하는데 사용하는 정도 관리물질입니다. 정해진 값이란 검사지의 라벨에 인쇄 된 범위를 말합니다. - 1 -\n",
      "1.\n",
      "172 모양 및 구조 – 작용원리 해당없음 - 1 -\n",
      "해당없음\n",
      "180 모양 및 구조 – 작용원리 해당없음 - 1 -\n",
      "해당없음\n",
      "245 모양 및 구조 - 작용원리 1. 작용원리 : 빙점강하측정 방식 (Freezing point) 검체를 섭씨 약 -7℃를 유지하는 부동액이 담겨 있는 펠티어 냉각조 또는 이와 비슷한 냉각효과를 주는 냉각블록의 튜브에 넣는다. 동시에 서미스터 프로브와 교반자를 검체와 함께 넣는다. 검체의 온도는 빠르게 빙점 이하의 온도로 내려가 과냉각 상태가 되면,냉각속도가 줄어들어 이론적인 등온(isothermal) 생태가 된다. 검체와 표준액 둘 다 일정한 과냉각(supercooled) 온도에서 교반자의 진폭과 진동 주파수가 순간적으로 급격히 증가하여 얼음결정이 발생 되도록 한다. 결정화 과정에서 발생된 용해열은 검체의 온도를 상승 시켜 일정한 상태로 잠깐 동안 유지된다. 이것은 서미스터 프로브가 아이스-슬러시의 중앙에 있어 담요와 같은 효과로 냉각조로부터 격리 되기 때문이다. 이러한 담요 효과는 결국 사라지고,검체가 얼어 냉각조의 온도와 같게 된다. 빙점방식의 측정은 서미스터의 온도가 일정하게 유지되는 동안의 밸런스 신호로부터 이루어진다. 장비의 측정값은 삼투압을 알고 있는 표준액을 이용한 calibration을 기초하여 삼투압으로 나타낸다. 전체적인 상관관계를 보면,삼투압 1mmol/kg은 섭씨 1.858/100도 (희석액에서)의 빙점 강하를 타나낸다. - 1 -\n",
      "1.\n",
      "266 모양 및 구조 – 작용원리 해당없음 - 1 -\n",
      "해당없음\n",
      "270 모양 및 구조 – 작용원리 해당없음 - 1 -\n",
      "해당없음\n",
      "343 모양 및 구조 - 작용원리\n",
      "\n",
      "404 모양 및 구조 – 작용원리 벨벳 삭제\n",
      "벨벳 삭제\n",
      "407 치과용도포기\n",
      "치과용도포기\n",
      "413 1\n",
      "1\n"
     ]
    }
   ],
   "source": [
    "for i in range(0,446):\n",
    "    if len(ndf['content'][i]) < 10:\n",
    "        print(i, ndf['full_content'][i])\n",
    "        print(ndf['content'][i])"
   ]
  },
  {
   "cell_type": "code",
   "execution_count": 129,
   "id": "7991d284-810e-4057-bc20-4c1d41d01f02",
   "metadata": {},
   "outputs": [
    {
     "data": {
      "text/plain": [
       "16"
      ]
     },
     "execution_count": 129,
     "metadata": {},
     "output_type": "execute_result"
    }
   ],
   "source": [
    "# 130, 245"
   ]
  },
  {
   "cell_type": "code",
   "execution_count": 143,
   "id": "be97124a-5703-4057-af89-f486f2082b9b",
   "metadata": {},
   "outputs": [
    {
     "data": {
      "text/plain": [
       "['모양 및 구조 - ',\n",
       " ' 1. ',\n",
       " ' : 빙점강하측정 방식 (Freezing point) 검체를 섭씨 약 -7℃를 유지하는 부동액이 담겨 있는 펠티어 냉각조 또는 이와 비슷한 냉각효과를 주는 냉각블록의 튜브에 넣는다. 동시에 서미스터 프로브와 교반자를 검체와 함께 넣는다. 검체의 온도는 빠르게 빙점 이하의 온도로 내려가 과냉각 상태가 되면,냉각속도가 줄어들어 이론적인 등온(isothermal) 생태가 된다. 검체와 표준액 둘 다 일정한 과냉각(supercooled) 온도에서 교반자의 진폭과 진동 주파수가 순간적으로 급격히 증가하여 얼음결정이 발생 되도록 한다. 결정화 과정에서 발생된 용해열은 검체의 온도를 상승 시켜 일정한 상태로 잠깐 동안 유지된다. 이것은 서미스터 프로브가 아이스-슬러시의 중앙에 있어 담요와 같은 효과로 냉각조로부터 격리 되기 때문이다. 이러한 담요 효과는 결국 사라지고,검체가 얼어 냉각조의 온도와 같게 된다. 빙점방식의 측정은 서미스터의 온도가 일정하게 유지되는 동안의 밸런스 신호로부터 이루어진다. 장비의 측정값은 삼투압을 알고 있는 표준액을 이용한 calibration을 기초하여 삼투압으로 나타낸다. 전체적인 상관관계를 보면,삼투압 1mmol/kg은 섭씨 1.858/100도 (희석액에서)의 빙점 강하를 타나낸다. - 1 -']"
      ]
     },
     "execution_count": 143,
     "metadata": {},
     "output_type": "execute_result"
    }
   ],
   "source": [
    "df['Principle'][245].split('작용원리')"
   ]
  },
  {
   "cell_type": "code",
   "execution_count": 144,
   "id": "2b574c81-6f71-471c-9f87-2fb232f33df0",
   "metadata": {},
   "outputs": [
    {
     "data": {
      "text/plain": [
       "': 빙점강하측정 방식 (Freezing point) 검체를 섭씨 약 -7℃를 유지하는 부동액이 담겨 있는 펠티어 냉각조 또는 이와 비슷한 냉각효과를 주는 냉각블록의 튜브에 넣는다. 동시에 서미스터 프로브와 교반자를 검체와 함께 넣는다. 검체의 온도는 빠르게 빙점 이하의 온도로 내려가 과냉각 상태가 되면,냉각속도가 줄어들어 이론적인 등온(isothermal) 생태가 된다. 검체와 표준액 둘 다 일정한 과냉각(supercooled) 온도에서 교반자의 진폭과 진동 주파수가 순간적으로 급격히 증가하여 얼음결정이 발생 되도록 한다. 결정화 과정에서 발생된 용해열은 검체의 온도를 상승 시켜 일정한 상태로 잠깐 동안 유지된다. 이것은 서미스터 프로브가 아이스-슬러시의 중앙에 있어 담요와 같은 효과로 냉각조로부터 격리 되기 때문이다. 이러한 담요 효과는 결국 사라지고,검체가 얼어 냉각조의 온도와 같게 된다. 빙점방식의 측정은 서미스터의 온도가 일정하게 유지되는 동안의 밸런스 신호로부터 이루어진다. 장비의 측정값은 삼투압을 알고 있는 표준액을 이용한 calibration을 기초하여 삼투압으로 나타낸다. 전체적인 상관관계를 보면,삼투압 1mmol/kg은 섭씨 1.858/100도 (희석액에서)의 빙점 강하를 타나낸다.'"
      ]
     },
     "execution_count": 144,
     "metadata": {},
     "output_type": "execute_result"
    }
   ],
   "source": [
    "df['Principle'][245].split('작용원리')[2].lstrip().replace('- 1 -','').rstrip()"
   ]
  },
  {
   "cell_type": "code",
   "execution_count": 149,
   "id": "fafb76f7-4b25-47a4-b7e7-9de710a5f31a",
   "metadata": {},
   "outputs": [],
   "source": [
    "ndf.to_csv('refinetest_0714.txt', sep=',', columns = ['product', 'criteria', 'content', 'criteria_index','full_content'], index = True, encoding='utf-8')"
   ]
  },
  {
   "cell_type": "code",
   "execution_count": 156,
   "id": "e4c74f2e-2a57-42a0-babb-902528272e4e",
   "metadata": {},
   "outputs": [
    {
     "data": {
      "text/plain": [
       "product                       고위험성감염체면역검사시약\n",
       "criteria                               작용원리\n",
       "content                                해당없음\n",
       "criteria_index                           10\n",
       "full_content      모양 및 구조 – 작용원리 해당없음 - 1 -\n",
       "Name: 180, dtype: object"
      ]
     },
     "execution_count": 156,
     "metadata": {},
     "output_type": "execute_result"
    }
   ],
   "source": [
    "ndf.loc[180]"
   ]
  },
  {
   "cell_type": "code",
   "execution_count": 160,
   "id": "0da4fc09-eaed-4ba3-98b0-c38d1b43db84",
   "metadata": {},
   "outputs": [
    {
     "name": "stdout",
     "output_type": "stream",
     "text": [
      "product                                         ABO·RhD이외의혈액형면역검사시약\n",
      "criteria                                                       작용원리\n",
      "content           DAY Test Cells I-II-III (Antibody screening) 1...\n",
      "criteria_index                                                   10\n",
      "full_content      모양 및 구조 – 작용원리 DAY Test Cells I-II-III (Antibo...\n",
      "Name: 179, dtype: object\n",
      "product                                                    개인용혈당측정기\n",
      "criteria                                                       작용원리\n",
      "content           1. 개인용혈당측정시스템 [1] 개인용혈당측정기 (모델명 : GM01HAC) [2]...\n",
      "criteria_index                                                   10\n",
      "full_content      모양 및 구조 - 작용원리 1. 개인용혈당측정시스템 [1] 개인용혈당측정기 (모델명...\n",
      "Name: 267, dtype: object\n",
      "product                                                    개인용혈당측정기\n",
      "criteria                                                       작용원리\n",
      "content           1. 개요 본 측정기는 별도로 제공되는 개인용체외진단검사시약II (제허 15-170...\n",
      "criteria_index                                                   10\n",
      "full_content      모양 및 구조 - 작용원리 1. 개요 본 측정기는 별도로 제공되는 개인용체외진단검사...\n",
      "Name: 269, dtype: object\n",
      "product                                                    일반면역검사시약\n",
      "criteria                                                       작용원리\n",
      "content           1. 개요 본 제품은 항체-항원 반응을 이용하여 사람의 혈액 (혈청 또는 혈장) 내...\n",
      "criteria_index                                                   10\n",
      "full_content      모양 및 구조 - 작용원리 1. 개요 본 제품은 항체-항원 반응을 이용하여 사람의 ...\n",
      "Name: 309, dtype: object\n",
      "product                                                     의료용개공기구\n",
      "criteria                                                       작용원리\n",
      "content           ■ 제품개요 용할 수 있습니다. 본 제품은 안전하고 편리하게 직장과 항문 질환을 검...\n",
      "criteria_index                                                   10\n",
      "full_content      모양 및 구조 - 작용원리 ■ 제품개요 용할 수 있습니다. 본 제품은 안전하고 편리...\n",
      "Name: 326, dtype: object\n",
      "product                                                    일반면역검사시약\n",
      "criteria                                                       작용원리\n",
      "content           1. 개요 본 체외진단용 의료기기는 혈청의 Haptoglobin을 측정하기 위해 개...\n",
      "criteria_index                                                   10\n",
      "full_content      모양 및 구조 - 작용원리 1. 개요 본 체외진단용 의료기기는 혈청의 Haptogl...\n",
      "Name: 377, dtype: object\n",
      "product                                                     의료용광도장치\n",
      "criteria                                                       작용원리\n",
      "content           1. 개요 준다. 2. 측정원리 본 측정기는 별도로 제공하는 SD G6PD Test...\n",
      "criteria_index                                                    0\n",
      "full_content      작용원리 1. 개요 준다. 2. 측정원리 본 측정기는 별도로 제공하는 SD G6PD...\n",
      "Name: 433, dtype: object\n",
      "7\n"
     ]
    }
   ],
   "source": [
    "k = 0 \n",
    "for i in range(len(ndf)):\n",
    "    if '개요' in ndf['full_content'][i]:\n",
    "        if '작용원리' in ndf['full_content'][i]:\n",
    "            k += 1 \n",
    "            print(ndf.loc[i])\n",
    "print(k)     "
   ]
  },
  {
   "cell_type": "code",
   "execution_count": 163,
   "id": "335cafe4-50f2-4ddc-8b3d-78416883f93b",
   "metadata": {},
   "outputs": [
    {
     "name": "stdout",
     "output_type": "stream",
     "text": [
      "product                                         ABO·RhD이외의혈액형면역검사시약\n",
      "criteria                                                       작용원리\n",
      "content           DAY Test Cells I-II-III (Antibody screening) 1...\n",
      "criteria_index                                                   10\n",
      "full_content      모양 및 구조 – 작용원리 DAY Test Cells I-II-III (Antibo...\n",
      "Name: 179, dtype: object\n",
      "product                                                    개인용혈당측정기\n",
      "criteria                                                       작용원리\n",
      "content           1. 개인용혈당측정시스템 [1] 개인용혈당측정기 (모델명 : GM01HAC) [2]...\n",
      "criteria_index                                                   10\n",
      "full_content      모양 및 구조 - 작용원리 1. 개인용혈당측정시스템 [1] 개인용혈당측정기 (모델명...\n",
      "Name: 267, dtype: object\n",
      "product                                                    개인용혈당측정기\n",
      "criteria                                                       작용원리\n",
      "content           1. 개요 본 측정기는 별도로 제공되는 개인용체외진단검사시약II (제허 15-170...\n",
      "criteria_index                                                   10\n",
      "full_content      모양 및 구조 - 작용원리 1. 개요 본 측정기는 별도로 제공되는 개인용체외진단검사...\n",
      "Name: 269, dtype: object\n",
      "product                                                    일반면역검사시약\n",
      "criteria                                                       작용원리\n",
      "content           1. 개요 본 제품은 항체-항원 반응을 이용하여 사람의 혈액 (혈청 또는 혈장) 내...\n",
      "criteria_index                                                   10\n",
      "full_content      모양 및 구조 - 작용원리 1. 개요 본 제품은 항체-항원 반응을 이용하여 사람의 ...\n",
      "Name: 309, dtype: object\n",
      "product                                                     의료용개공기구\n",
      "criteria                                                       작용원리\n",
      "content           ■ 제품개요 용할 수 있습니다. 본 제품은 안전하고 편리하게 직장과 항문 질환을 검...\n",
      "criteria_index                                                   10\n",
      "full_content      모양 및 구조 - 작용원리 ■ 제품개요 용할 수 있습니다. 본 제품은 안전하고 편리...\n",
      "Name: 326, dtype: object\n",
      "product                                                    일반면역검사시약\n",
      "criteria                                                       작용원리\n",
      "content           1. 개요 본 체외진단용 의료기기는 혈청의 Haptoglobin을 측정하기 위해 개...\n",
      "criteria_index                                                   10\n",
      "full_content      모양 및 구조 - 작용원리 1. 개요 본 체외진단용 의료기기는 혈청의 Haptogl...\n",
      "Name: 377, dtype: object\n",
      "product                                                     의료용광도장치\n",
      "criteria                                                       작용원리\n",
      "content           1. 개요 준다. 2. 측정원리 본 측정기는 별도로 제공하는 SD G6PD Test...\n",
      "criteria_index                                                    0\n",
      "full_content      작용원리 1. 개요 준다. 2. 측정원리 본 측정기는 별도로 제공하는 SD G6PD...\n",
      "Name: 433, dtype: object\n",
      "7\n"
     ]
    }
   ],
   "source": [
    "k = 0\n",
    "for i in range(len(ndf)):\n",
    "    if '작용원리' in ndf['full_content'][i]:\n",
    "        if '개요' in ndf['full_content'][i]:\n",
    "            k += 1 \n",
    "            print(ndf.loc[i])\n",
    "print(k)    "
   ]
  }
 ],
 "metadata": {
  "kernelspec": {
   "display_name": "Python 3",
   "language": "python",
   "name": "python3"
  },
  "language_info": {
   "codemirror_mode": {
    "name": "ipython",
    "version": 3
   },
   "file_extension": ".py",
   "mimetype": "text/x-python",
   "name": "python",
   "nbconvert_exporter": "python",
   "pygments_lexer": "ipython3",
   "version": "3.8.8"
  }
 },
 "nbformat": 4,
 "nbformat_minor": 5
}
