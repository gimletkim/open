{
 "cells": [
  {
   "cell_type": "code",
   "execution_count": 2,
   "metadata": {},
   "outputs": [],
   "source": [
    "import pandas as pd\n",
    "import os\n",
    "\n",
    "cwd = os.chdir(r\"C:\\Users\\HyunjungKim\\Downloads\")"
   ]
  },
  {
   "cell_type": "code",
   "execution_count": 3,
   "metadata": {},
   "outputs": [
    {
     "data": {
      "text/plain": [
       "'C:\\\\Users\\\\HyunjungKim\\\\Downloads'"
      ]
     },
     "execution_count": 3,
     "metadata": {},
     "output_type": "execute_result"
    }
   ],
   "source": [
    "os.getcwd()"
   ]
  },
  {
   "cell_type": "code",
   "execution_count": 4,
   "metadata": {
    "scrolled": true
   },
   "outputs": [
    {
     "name": "stdout",
     "output_type": "stream",
     "text": [
      "35935\n"
     ]
    }
   ],
   "source": [
    "#f = open('mfds.txt', 'r')#, 'utf-8')\n",
    "f= open('mfds.txt', 'rt', encoding='UTF8')\n",
    "\n",
    "sampleDat = []\n",
    "k = 0\n",
    "for line in f.readlines():\n",
    "    line = line.replace('형상 및 구조 ', '').replace('- 개요 ', '').replace('가. ','').replace('제품의 명칭','').replace(' 품목명 :','').replace(' 등 급 :','').replace(' 형 명 :','').replace(' 개 요 ','').replace('모양 및 구조 ','').replace('- 작동원리 ','').replace(' - 1 - ', '').replace(' - 1 -','').replace('- 작용원리','').replace('– 작용원리 ','').replace('– 개요 ','').replace('작용원리 ','')\n",
    "    line = line.split('\\t')\n",
    "    line  = [i.strip() for i in line] # remove \\n\n",
    "    prodList = line[0]\n",
    "    #rint(k)\n",
    "    #rint(line[1])\n",
    "    content = line[1]\n",
    "    oneProd = [prodList, content]\n",
    "    sampleDat.append(oneProd)\n",
    "    #print(prodList)\n",
    "    #print(content)\n",
    "    k += 1   \n",
    "print(k)"
   ]
  },
  {
   "cell_type": "code",
   "execution_count": 5,
   "metadata": {},
   "outputs": [],
   "source": [
    "df_sampleDat = pd.DataFrame(sampleDat)"
   ]
  },
  {
   "cell_type": "code",
   "execution_count": 6,
   "metadata": {},
   "outputs": [
    {
     "data": {
      "text/html": [
       "<div>\n",
       "<style scoped>\n",
       "    .dataframe tbody tr th:only-of-type {\n",
       "        vertical-align: middle;\n",
       "    }\n",
       "\n",
       "    .dataframe tbody tr th {\n",
       "        vertical-align: top;\n",
       "    }\n",
       "\n",
       "    .dataframe thead th {\n",
       "        text-align: right;\n",
       "    }\n",
       "</style>\n",
       "<table border=\"1\" class=\"dataframe\">\n",
       "  <thead>\n",
       "    <tr style=\"text-align: right;\">\n",
       "      <th></th>\n",
       "      <th>0</th>\n",
       "      <th>1</th>\n",
       "    </tr>\n",
       "  </thead>\n",
       "  <tbody>\n",
       "    <tr>\n",
       "      <td>0</td>\n",
       "      <td>수지형체외식초음파프로브</td>\n",
       "      <td>1) 의료용프로브(A58020) 2) 1등급 나. C6-2, C7F2, P9-4, ...</td>\n",
       "    </tr>\n",
       "    <tr>\n",
       "      <td>1</td>\n",
       "      <td>침습형일회용의료용가이드</td>\n",
       "      <td>기관용 튜브의 위치를 안내하기 위하여 사용하는 기구.</td>\n",
       "    </tr>\n",
       "    <tr>\n",
       "      <td>2</td>\n",
       "      <td>수지형체외식초음파프로브</td>\n",
       "      <td>본 탐촉자(Transducer)는 Siemens 초음파영상진단장치 Sequoia에 ...</td>\n",
       "    </tr>\n",
       "    <tr>\n",
       "      <td>3</td>\n",
       "      <td>수지형체외식초음파프로브</td>\n",
       "      <td>본 탐촉자(Transducer)는 Siemens 초음파영상진단장치 SONOLINE ...</td>\n",
       "    </tr>\n",
       "    <tr>\n",
       "      <td>4</td>\n",
       "      <td>수지형체외식초음파프로브</td>\n",
       "      <td>본 탐촉자(Transducer)는 Siemens 초음파영상진단장치 Antrares에...</td>\n",
       "    </tr>\n",
       "    <tr>\n",
       "      <td>...</td>\n",
       "      <td>...</td>\n",
       "      <td>...</td>\n",
       "    </tr>\n",
       "    <tr>\n",
       "      <td>35930</td>\n",
       "      <td>부목</td>\n",
       "      <td>1. 용하는 의료용 제품이다. 본 제품은 환자의 팔꿈치 관절과 그 주변 부위를 압박...</td>\n",
       "    </tr>\n",
       "    <tr>\n",
       "      <td>35931</td>\n",
       "      <td>수동식재사용의료용천공기</td>\n",
       "      <td>조직 또는 뼈에 천공하기 위해 사용하는 수동식 기기로 재사용 가능이다.</td>\n",
       "    </tr>\n",
       "    <tr>\n",
       "      <td>35932</td>\n",
       "      <td>복합재료이식용뼈</td>\n",
       "      <td>본 제품은 소의 해면골에서 유래한 정제된 수산화인회석(Hydroxyapatite)과...</td>\n",
       "    </tr>\n",
       "    <tr>\n",
       "      <td>35933</td>\n",
       "      <td>고위험성감염체유전자검사시약</td>\n",
       "      <td>1. ‘NeoPlexTM FluCOVID Kit’ 제품은 호흡기 감염병 의심환자의 ...</td>\n",
       "    </tr>\n",
       "    <tr>\n",
       "      <td>35934</td>\n",
       "      <td>흡인용튜브·카테터</td>\n",
       "      <td>1. 흡인용튜브·카테터 ( 의료기기 / 제신20-1789호 ) - 재주입을 목적으로...</td>\n",
       "    </tr>\n",
       "  </tbody>\n",
       "</table>\n",
       "<p>35935 rows × 2 columns</p>\n",
       "</div>"
      ],
      "text/plain": [
       "                    0                                                  1\n",
       "0        수지형체외식초음파프로브  1) 의료용프로브(A58020) 2) 1등급 나. C6-2, C7F2, P9-4, ...\n",
       "1        침습형일회용의료용가이드                      기관용 튜브의 위치를 안내하기 위하여 사용하는 기구.\n",
       "2        수지형체외식초음파프로브  본 탐촉자(Transducer)는 Siemens 초음파영상진단장치 Sequoia에 ...\n",
       "3        수지형체외식초음파프로브  본 탐촉자(Transducer)는 Siemens 초음파영상진단장치 SONOLINE ...\n",
       "4        수지형체외식초음파프로브  본 탐촉자(Transducer)는 Siemens 초음파영상진단장치 Antrares에...\n",
       "...               ...                                                ...\n",
       "35930              부목  1. 용하는 의료용 제품이다. 본 제품은 환자의 팔꿈치 관절과 그 주변 부위를 압박...\n",
       "35931    수동식재사용의료용천공기            조직 또는 뼈에 천공하기 위해 사용하는 수동식 기기로 재사용 가능이다.\n",
       "35932        복합재료이식용뼈  본 제품은 소의 해면골에서 유래한 정제된 수산화인회석(Hydroxyapatite)과...\n",
       "35933  고위험성감염체유전자검사시약  1. ‘NeoPlexTM FluCOVID Kit’ 제품은 호흡기 감염병 의심환자의 ...\n",
       "35934       흡인용튜브·카테터  1. 흡인용튜브·카테터 ( 의료기기 / 제신20-1789호 ) - 재주입을 목적으로...\n",
       "\n",
       "[35935 rows x 2 columns]"
      ]
     },
     "execution_count": 6,
     "metadata": {},
     "output_type": "execute_result"
    }
   ],
   "source": [
    "df_sampleDat"
   ]
  },
  {
   "cell_type": "code",
   "execution_count": 7,
   "metadata": {},
   "outputs": [],
   "source": [
    "from konlpy.tag import Kkma\n",
    "from konlpy.utils import pprint"
   ]
  },
  {
   "cell_type": "code",
   "execution_count": 8,
   "metadata": {},
   "outputs": [],
   "source": [
    "kkma = Kkma()"
   ]
  },
  {
   "cell_type": "code",
   "execution_count": 12,
   "metadata": {
    "scrolled": true
   },
   "outputs": [
    {
     "name": "stdout",
     "output_type": "stream",
     "text": [
      "['탐',\n",
      " '탐촉자',\n",
      " '촉',\n",
      " '자',\n",
      " '초음파',\n",
      " '초음파영상진단장치',\n",
      " '영상',\n",
      " '진단',\n",
      " '장치',\n",
      " '연결',\n",
      " '사용',\n",
      " '구성품',\n",
      " '본',\n",
      " '인체',\n",
      " '모니터',\n",
      " '검사자',\n",
      " '평가',\n",
      " '수']\n",
      "[('보', 'VV'),\n",
      " ('ㄴ', 'ETD'),\n",
      " ('탐', 'NNG'),\n",
      " ('촉', 'NNG'),\n",
      " ('자', 'NNG'),\n",
      " ('(', 'SS'),\n",
      " ('Transducer', 'OL'),\n",
      " (')', 'SS'),\n",
      " ('늘', 'VV'),\n",
      " ('ㄴ', 'ETD'),\n",
      " ('Siemens', 'OL'),\n",
      " ('초음파', 'NNG'),\n",
      " ('영상', 'NNG'),\n",
      " ('진단', 'NNG'),\n",
      " ('장치', 'NNG'),\n",
      " ('Sequoia', 'OL'),\n",
      " ('에', 'JKM'),\n",
      " ('연결', 'NNG'),\n",
      " ('하', 'XSV'),\n",
      " ('여', 'ECS'),\n",
      " ('사용', 'NNG'),\n",
      " ('하', 'XSV'),\n",
      " ('는', 'ETD'),\n",
      " ('구성품', 'NNG'),\n",
      " ('으로서', 'JKM'),\n",
      " (',', 'SP'),\n",
      " ('본', 'NNG'),\n",
      " ('탐', 'NNG'),\n",
      " ('촉', 'NNG'),\n",
      " ('자', 'NNG'),\n",
      " ('는', 'JX'),\n",
      " ('인체', 'NNG'),\n",
      " ('초음파', 'NNG'),\n",
      " ('영상', 'NNG'),\n",
      " ('을', 'JKO'),\n",
      " ('모니터', 'NNG'),\n",
      " ('로', 'JKM'),\n",
      " ('검사자', 'NNG'),\n",
      " ('가', 'JKS'),\n",
      " ('쉬', 'VV'),\n",
      " ('게', 'ECD'),\n",
      " ('평가', 'NNG'),\n",
      " ('하', 'XSV'),\n",
      " ('ㄹ', 'ETD'),\n",
      " ('수', 'NNB'),\n",
      " ('있', 'VV'),\n",
      " ('도록', 'ECD'),\n",
      " ('하여', 'MAG'),\n",
      " ('진단', 'NNG'),\n",
      " ('을', 'JKO'),\n",
      " ('용이', 'XR'),\n",
      " ('하', 'XSA'),\n",
      " ('게', 'ECD'),\n",
      " ('하', 'VV'),\n",
      " ('ㄴ다', 'EFN'),\n",
      " ('.', 'SF')]\n"
     ]
    }
   ],
   "source": [
    "# Find sentence\n",
    "# pprint(Kkma.sentences(df_sampleDat[1][1]))\n",
    "\n",
    "# Find noun\n",
    "pprint(kkma.nouns(df_sampleDat[1][2]))\n",
    "pprint(kkma.pos(df_sampleDat[1][2]))"
   ]
  },
  {
   "cell_type": "code",
   "execution_count": 15,
   "metadata": {},
   "outputs": [],
   "source": [
    "# https://m.blog.naver.com/PostView.naver?isHttpsRedirect=true&blogId=myincizor&logNo=221629109172\n",
    "from konlpy.tag import Hannanum \n",
    "\n",
    "h = Hannanum()"
   ]
  },
  {
   "cell_type": "code",
   "execution_count": 16,
   "metadata": {},
   "outputs": [
    {
     "name": "stdout",
     "output_type": "stream",
     "text": [
      "['보', 'ㄴ', '탐촉자(Transducer)', '는', 'Siemens', '초음파영상진단장치', 'Sequoia', '에', '연결', '하', '어', '사용', '하', '는', '구성품', '으로서', ',', '보', 'ㄴ', '탐촉자', '는', '인체', '초음파', '영상', '을', '모니터', '로', '검사자', '가', '쉽', '것', '이', '평가', '하', 'ㄹ', '수', '있', '도록', '하', '어', '진단', '을', '용이', '하', '게', '하', 'ㄴ다', '.']\n"
     ]
    }
   ],
   "source": [
    "x = h.morphs(df_sampleDat[1][2])\n",
    "print(x)"
   ]
  },
  {
   "cell_type": "code",
   "execution_count": 17,
   "metadata": {},
   "outputs": [
    {
     "name": "stdout",
     "output_type": "stream",
     "text": [
      "['탐촉자(Transducer)', '초음파영상진단장치', '연결', '사용', '구성품', '탐촉자', '인체', '초음파', '영상', '모니터', '검사자', '쉽', '것', '평가', '수', '진단', '용이']\n"
     ]
    }
   ],
   "source": [
    "x = h.nouns(df_sampleDat[1][2])\n",
    "print(x)"
   ]
  },
  {
   "cell_type": "code",
   "execution_count": 18,
   "metadata": {},
   "outputs": [
    {
     "name": "stdout",
     "output_type": "stream",
     "text": [
      "[('보', 'P'), ('ㄴ', 'E'), ('탐촉자(Transducer)', 'N'), ('는', 'J'), ('Siemens', 'F'), ('초음파영상진단장치', 'N'), ('Sequoia', 'F'), ('에', 'J'), ('연결', 'N'), ('하', 'X'), ('어', 'E'), ('사용', 'N'), ('하', 'X'), ('는', 'E'), ('구성품', 'N'), ('으로서', 'J'), (',', 'S'), ('보', 'P'), ('ㄴ', 'E'), ('탐촉자', 'N'), ('는', 'J'), ('인체', 'N'), ('초음파', 'N'), ('영상', 'N'), ('을', 'J'), ('모니터', 'N'), ('로', 'J'), ('검사자', 'N'), ('가', 'J'), ('쉽', 'N'), ('것', 'N'), ('이', 'J'), ('평가', 'N'), ('하', 'X'), ('ㄹ', 'E'), ('수', 'N'), ('있', 'P'), ('도록', 'E'), ('하', 'P'), ('어', 'E'), ('진단', 'N'), ('을', 'J'), ('용이', 'N'), ('하', 'X'), ('게', 'E'), ('하', 'P'), ('ㄴ다', 'E'), ('.', 'S')]\n"
     ]
    }
   ],
   "source": [
    "x = h.pos(df_sampleDat[1][2])\n",
    "print(x)"
   ]
  },
  {
   "cell_type": "code",
   "execution_count": 37,
   "metadata": {},
   "outputs": [
    {
     "name": "stdout",
     "output_type": "stream",
     "text": [
      "[('탐촉자', 'ncn'), ('(', 'sl'), ('Transducer', 'f'), (')', 'sr'), ('는', 'jxc')]\n",
      "[('탐촉자(Transducer', 'ncn'), (')', 'sr'), ('는', 'jxc')]\n",
      "[('탐촉자(Transducer)', 'ncn'), ('는', 'jxc')]\n",
      "[('탐촉자(Transducer)는', 'ncn')]\n",
      "[('탐촉자', 'nqq'), ('(', 'sl'), ('Transducer', 'f'), (')', 'sr'), ('는', 'jxc')]\n",
      "[('탐촉자(Transducer', 'nqq'), (')', 'sr'), ('는', 'jxc')]\n",
      "[('탐촉자(Transducer)', 'nqq'), ('는', 'jxc')]\n",
      "[('탐촉자(Transducer)는', 'nqq')]\n"
     ]
    }
   ],
   "source": [
    "x = h.analyze(df_sampleDat[1][2])\n",
    "#rint(x)\n",
    "for element in x[1]:\n",
    "    print(element)\n",
    "    if 'f' in element:\n",
    "        pri\n",
    "#     .split('(',')')\n",
    "#     if 'ncn' in element:\n",
    "#         a = element\n",
    "#         print(a)"
   ]
  },
  {
   "cell_type": "code",
   "execution_count": 42,
   "metadata": {},
   "outputs": [
    {
     "data": {
      "text/plain": [
       "\"[('탐촉자(Transducer)는'\""
      ]
     },
     "execution_count": 42,
     "metadata": {},
     "output_type": "execute_result"
    }
   ],
   "source": [
    "str(element).split(',')[0]"
   ]
  },
  {
   "cell_type": "code",
   "execution_count": 66,
   "metadata": {},
   "outputs": [
    {
     "name": "stdout",
     "output_type": "stream",
     "text": [
      "[('보', 'px'), ('ㄴ', 'etm')]\n",
      "[('탐촉자(Transducer', 'ncn'), (')', 'sr'), ('는', 'jxc')]\n"
     ]
    },
    {
     "ename": "IndexError",
     "evalue": "list index out of range",
     "output_type": "error",
     "traceback": [
      "\u001b[1;31m---------------------------------------------------------------------------\u001b[0m",
      "\u001b[1;31mIndexError\u001b[0m                                Traceback (most recent call last)",
      "\u001b[1;32m<ipython-input-66-9a68d68e9cd8>\u001b[0m in \u001b[0;36m<module>\u001b[1;34m\u001b[0m\n\u001b[0;32m      1\u001b[0m \u001b[1;32mfor\u001b[0m \u001b[0mword\u001b[0m \u001b[1;32min\u001b[0m \u001b[0mh\u001b[0m\u001b[1;33m.\u001b[0m\u001b[0manalyze\u001b[0m\u001b[1;33m(\u001b[0m\u001b[0mdf_sampleDat\u001b[0m\u001b[1;33m[\u001b[0m\u001b[1;36m1\u001b[0m\u001b[1;33m]\u001b[0m\u001b[1;33m[\u001b[0m\u001b[1;36m2\u001b[0m\u001b[1;33m]\u001b[0m\u001b[1;33m)\u001b[0m\u001b[1;33m:\u001b[0m\u001b[1;33m\u001b[0m\u001b[1;33m\u001b[0m\u001b[0m\n\u001b[1;32m----> 2\u001b[1;33m     \u001b[0mprint\u001b[0m\u001b[1;33m(\u001b[0m\u001b[0mword\u001b[0m\u001b[1;33m[\u001b[0m\u001b[1;36m1\u001b[0m\u001b[1;33m]\u001b[0m\u001b[1;33m)\u001b[0m\u001b[1;33m\u001b[0m\u001b[1;33m\u001b[0m\u001b[0m\n\u001b[0m\u001b[0;32m      3\u001b[0m     \u001b[1;32mif\u001b[0m \u001b[0mword\u001b[0m\u001b[1;33m[\u001b[0m\u001b[1;36m1\u001b[0m\u001b[1;33m]\u001b[0m \u001b[1;32min\u001b[0m \u001b[1;33m[\u001b[0m\u001b[1;34m'nns'\u001b[0m\u001b[1;33m,\u001b[0m \u001b[1;34m'f'\u001b[0m\u001b[1;33m]\u001b[0m\u001b[1;33m:\u001b[0m\u001b[1;33m\u001b[0m\u001b[1;33m\u001b[0m\u001b[0m\n\u001b[0;32m      4\u001b[0m         \u001b[0mprint\u001b[0m\u001b[1;33m(\u001b[0m\u001b[0mword\u001b[0m\u001b[1;33m[\u001b[0m\u001b[1;36m1\u001b[0m\u001b[1;33m]\u001b[0m\u001b[1;33m)\u001b[0m\u001b[1;33m\u001b[0m\u001b[1;33m\u001b[0m\u001b[0m\n\u001b[0;32m      5\u001b[0m     \u001b[1;31m#print(word[1])\u001b[0m\u001b[1;33m\u001b[0m\u001b[1;33m\u001b[0m\u001b[1;33m\u001b[0m\u001b[0m\n",
      "\u001b[1;31mIndexError\u001b[0m: list index out of range"
     ]
    }
   ],
   "source": [
    "for word in h.analyze(df_sampleDat[1][2]):\n",
    "    print(word[1])\n",
    "    if word[1] in ['nns', 'f']:\n",
    "        print(word[1])\n",
    "    #print(word[1])\n",
    "#    if 'f' in word[1]:\n",
    "#        print('word[1]', word[1], word[0])\n"
   ]
  },
  {
   "cell_type": "code",
   "execution_count": null,
   "metadata": {},
   "outputs": [],
   "source": [
    "for word in nltk.tag.pos_tag(nltk.tokenize.word_tokenize(text)):\n",
    "    if word[1] not in ['CC', 'DT', 'EX', 'IN', 'LS', 'MD', 'WDT', 'WP', 'WP$', 'WRB']: #접속사(and), 관사(a,the), 소유형용사(his, her), 지시형용사(this, that), 부정형용사(some), 수량형용사(many), 관계형용사(what), 전치사(in, on), 리스트마커(1)), 조동사(could), 관계부사(which) 제외\n",
    "        print(word[0])"
   ]
  },
  {
   "cell_type": "code",
   "execution_count": null,
   "metadata": {},
   "outputs": [],
   "source": [
    "# nltk.download('averaged_perceptron_tagger')\n",
    "nltk.download('punkt')\n",
    "\n",
    "\n",
    "for i, document in enumerate(x_data):\n",
    "    clean_words = []\n",
    "    for i, word in h.analyze(df_sampleDat[1][2]):\n",
    "    nltk.tag.pos_tag(nltk.tokenize.word_tokenize(document)):\n",
    "        if word[1] in ['NN', 'NNS', 'NNP', 'NNPS', 'VB', 'VBD', 'VBG', 'VBN', 'VBP', 'VBZ', 'JJ', 'JJR', 'JJS']: #명사, 동사, 형용사\n",
    "            clean_words.append(word[0])\n",
    "    print(clean_words) #['stale', 'uninspired']\n",
    "    document = ' '.join(clean_words)\n",
    "    print(document) #stale uninspired\n",
    "    document = document.lower()\n",
    "    x_data[i] = document\n",
    "print(x_data) #['stale uninspired' 'hate' 'utterly incompetent conclusion' 'pointless' 'be disappointed' 'sincere performance' 'performances are absolute joy' 'works' 'entertaining' 'is heartfelt story']"
   ]
  },
  {
   "cell_type": "code",
   "execution_count": 72,
   "metadata": {},
   "outputs": [
    {
     "name": "stdout",
     "output_type": "stream",
     "text": [
      "0 [[('보', 'pvg'), ('ㄴ', 'etm')], [('보', 'px'), ('ㄴ', 'etm')], [('본', 'mmd')], [('본', 'ncn')], [('본', 'nbu')]]\n",
      "1 [[('탐촉자', 'ncn'), ('(', 'sl'), ('Transducer', 'f'), (')', 'sr'), ('는', 'jxc')], [('탐촉자(Transducer', 'ncn'), (')', 'sr'), ('는', 'jxc')], [('탐촉자(Transducer)', 'ncn'), ('는', 'jxc')], [('탐촉자(Transducer)는', 'ncn')], [('탐촉자', 'nqq'), ('(', 'sl'), ('Transducer', 'f'), (')', 'sr'), ('는', 'jxc')], [('탐촉자(Transducer', 'nqq'), (')', 'sr'), ('는', 'jxc')], [('탐촉자(Transducer)', 'nqq'), ('는', 'jxc')], [('탐촉자(Transducer)는', 'nqq')]]\n",
      "2 [[('Siemens', 'f')]]\n"
     ]
    },
    {
     "ename": "IndexError",
     "evalue": "list index out of range",
     "output_type": "error",
     "traceback": [
      "\u001b[1;31m---------------------------------------------------------------------------\u001b[0m",
      "\u001b[1;31mIndexError\u001b[0m                                Traceback (most recent call last)",
      "\u001b[1;32m<ipython-input-72-933238cc0f41>\u001b[0m in \u001b[0;36m<module>\u001b[1;34m\u001b[0m\n\u001b[0;32m      5\u001b[0m \u001b[1;32mfor\u001b[0m \u001b[0mi\u001b[0m\u001b[1;33m,\u001b[0m \u001b[0mdocument\u001b[0m \u001b[1;32min\u001b[0m \u001b[0menumerate\u001b[0m\u001b[1;33m(\u001b[0m\u001b[0mh\u001b[0m\u001b[1;33m.\u001b[0m\u001b[0manalyze\u001b[0m\u001b[1;33m(\u001b[0m\u001b[0mdf_sampleDat\u001b[0m\u001b[1;33m[\u001b[0m\u001b[1;36m1\u001b[0m\u001b[1;33m]\u001b[0m\u001b[1;33m[\u001b[0m\u001b[1;36m2\u001b[0m\u001b[1;33m]\u001b[0m\u001b[1;33m)\u001b[0m\u001b[1;33m)\u001b[0m\u001b[1;33m:\u001b[0m\u001b[1;33m\u001b[0m\u001b[1;33m\u001b[0m\u001b[0m\n\u001b[0;32m      6\u001b[0m     \u001b[0mprint\u001b[0m\u001b[1;33m(\u001b[0m\u001b[0mi\u001b[0m\u001b[1;33m,\u001b[0m \u001b[0mdocument\u001b[0m\u001b[1;33m)\u001b[0m\u001b[1;33m\u001b[0m\u001b[1;33m\u001b[0m\u001b[0m\n\u001b[1;32m----> 7\u001b[1;33m     \u001b[1;32mif\u001b[0m \u001b[0mdocument\u001b[0m\u001b[1;33m[\u001b[0m\u001b[1;36m1\u001b[0m\u001b[1;33m]\u001b[0m \u001b[1;32min\u001b[0m \u001b[1;33m[\u001b[0m\u001b[1;34m'NN'\u001b[0m\u001b[1;33m,\u001b[0m \u001b[1;34m'NNS'\u001b[0m\u001b[1;33m,\u001b[0m \u001b[1;34m'NNP'\u001b[0m\u001b[1;33m,\u001b[0m \u001b[1;34m'NNPS'\u001b[0m\u001b[1;33m,\u001b[0m \u001b[1;34m'VB'\u001b[0m\u001b[1;33m,\u001b[0m \u001b[1;34m'VBD'\u001b[0m\u001b[1;33m,\u001b[0m \u001b[1;34m'VBG'\u001b[0m\u001b[1;33m,\u001b[0m \u001b[1;34m'VBN'\u001b[0m\u001b[1;33m,\u001b[0m \u001b[1;34m'VBP'\u001b[0m\u001b[1;33m,\u001b[0m \u001b[1;34m'VBZ'\u001b[0m\u001b[1;33m,\u001b[0m \u001b[1;34m'JJ'\u001b[0m\u001b[1;33m,\u001b[0m \u001b[1;34m'JJR'\u001b[0m\u001b[1;33m,\u001b[0m \u001b[1;34m'JJS'\u001b[0m\u001b[1;33m]\u001b[0m\u001b[1;33m:\u001b[0m \u001b[1;31m#명사, 동사, 형용사\u001b[0m\u001b[1;33m\u001b[0m\u001b[1;33m\u001b[0m\u001b[0m\n\u001b[0m\u001b[0;32m      8\u001b[0m         \u001b[0mclean_words\u001b[0m\u001b[1;33m.\u001b[0m\u001b[0mappend\u001b[0m\u001b[1;33m(\u001b[0m\u001b[0mword\u001b[0m\u001b[1;33m[\u001b[0m\u001b[1;36m0\u001b[0m\u001b[1;33m]\u001b[0m\u001b[1;33m)\u001b[0m\u001b[1;33m\u001b[0m\u001b[1;33m\u001b[0m\u001b[0m\n\u001b[0;32m      9\u001b[0m \u001b[1;31m#     #print(clean_words) #['스토리', '진짜', '노잼']\u001b[0m\u001b[1;33m\u001b[0m\u001b[1;33m\u001b[0m\u001b[1;33m\u001b[0m\u001b[0m\n",
      "\u001b[1;31mIndexError\u001b[0m: list index out of range"
     ]
    }
   ],
   "source": [
    "#텍스트 정제 (형태소 추출)\n",
    "# nltk.download('averaged_perceptron_tagger')\n",
    "\n",
    "clean_words = []\n",
    "for i, document in enumerate(h.analyze(df_sampleDat[1][2])):\n",
    "    print(i, document)\n",
    "    if document[1] in ['NN', 'NNS', 'NNP', 'NNPS', 'VB', 'VBD', 'VBG', 'VBN', 'VBP', 'VBZ', 'JJ', 'JJR', 'JJS']: #명사, 동사, 형용사\n",
    "        clean_words.append(word[0])\n",
    "#   print(clean_words) #['스토리', '진짜', '노잼']\n",
    "#     document = ' '.join(clean_words)\n",
    "#     #print(document) #스토리 진짜 노잼\n",
    "#     document = document.lower()\n",
    "#     x_data[i] = document"
   ]
  },
  {
   "cell_type": "code",
   "execution_count": 76,
   "metadata": {},
   "outputs": [
    {
     "name": "stdout",
     "output_type": "stream",
     "text": [
      "0 탐촉자(Transducer)\n",
      "1 초음파영상진단장치\n",
      "2 연결\n",
      "3 사용\n",
      "4 구성품\n",
      "5 탐촉자\n",
      "6 인체\n",
      "7 초음파\n",
      "8 영상\n",
      "9 모니터\n",
      "10 검사자\n",
      "11 쉽\n",
      "12 것\n",
      "13 평가\n",
      "14 수\n",
      "15 진단\n",
      "16 용이\n"
     ]
    }
   ],
   "source": [
    "for i, document in enumerate(h.nouns(df_sampleDat[1][2])):\n",
    "    print(i, document)"
   ]
  },
  {
   "cell_type": "code",
   "execution_count": 118,
   "metadata": {},
   "outputs": [],
   "source": [
    "ans = df_sampleDat[0]"
   ]
  },
  {
   "cell_type": "code",
   "execution_count": 123,
   "metadata": {},
   "outputs": [],
   "source": [
    "qsts = df_sampleDat[1]"
   ]
  },
  {
   "cell_type": "code",
   "execution_count": 136,
   "metadata": {},
   "outputs": [
    {
     "data": {
      "text/plain": [
       "[[[('보', 'pvg'), ('ㄴ', 'etm')],\n",
       "  [('보', 'px'), ('ㄴ', 'etm')],\n",
       "  [('본', 'mmd')],\n",
       "  [('본', 'ncn')],\n",
       "  [('본', 'nbu')]],\n",
       " [[('탐촉자', 'ncn'),\n",
       "   ('(', 'sl'),\n",
       "   ('Transducer', 'f'),\n",
       "   (')', 'sr'),\n",
       "   ('는', 'jxc')],\n",
       "  [('탐촉자(Transducer', 'ncn'), (')', 'sr'), ('는', 'jxc')],\n",
       "  [('탐촉자(Transducer)', 'ncn'), ('는', 'jxc')],\n",
       "  [('탐촉자(Transducer)는', 'ncn')],\n",
       "  [('탐촉자', 'nqq'),\n",
       "   ('(', 'sl'),\n",
       "   ('Transducer', 'f'),\n",
       "   (')', 'sr'),\n",
       "   ('는', 'jxc')],\n",
       "  [('탐촉자(Transducer', 'nqq'), (')', 'sr'), ('는', 'jxc')],\n",
       "  [('탐촉자(Transducer)', 'nqq'), ('는', 'jxc')],\n",
       "  [('탐촉자(Transducer)는', 'nqq')]],\n",
       " [[('Siemens', 'f')]],\n",
       " [[('초음파', 'ncn'), ('영상', 'ncn'), ('진단', 'ncpa'), ('장치', 'ncpa')]],\n",
       " [[('Sequoia', 'f'), ('에', 'jca')]],\n",
       " [[('연결', 'ncpa'), ('하', 'xsva'), ('어', 'ecs')],\n",
       "  [('연결', 'ncpa'), ('하', 'xsva'), ('어', 'ecx')],\n",
       "  [('연결', 'ncpa'), ('하', 'xsva'), ('어', 'ef')]],\n",
       " [[('사용', 'ncpa'), ('하', 'xsva'), ('는', 'etm')],\n",
       "  [('사용', 'ncpa'), ('하', 'xsva'), ('어', 'ecs'), ('는', 'jxc')],\n",
       "  [('사용', 'ncpa'), ('하', 'xsva'), ('어', 'ef'), ('는', 'etm')]],\n",
       " [[('구성', 'ncn'), ('품', 'ncn'), ('으로서', 'jca'), (',', 'sp')],\n",
       "  [('구성', 'ncpa'), ('품', 'ncn'), ('으로서', 'jca'), (',', 'sp')]],\n",
       " [[('보', 'pvg'), ('ㄴ', 'etm')],\n",
       "  [('보', 'px'), ('ㄴ', 'etm')],\n",
       "  [('본', 'mmd')],\n",
       "  [('본', 'ncn')],\n",
       "  [('본', 'nbu')]],\n",
       " [[('탐촉자', 'ncn'), ('는', 'jxc')]],\n",
       " [[('인체', 'ncn')],\n",
       "  [('일', 'pvg'), ('ㄴ', 'etm'), ('체', 'nbs')],\n",
       "  [('이', 'pvg'), ('ㄴ', 'etm'), ('체', 'nbs')]],\n",
       " [[('초음파', 'ncn')]],\n",
       " [[('영상', 'ncn'), ('을', 'jco')], [('영', 'ncn'), ('상', 'xsncc'), ('을', 'jco')]],\n",
       " [[('모니터', 'ncpa'), ('로', 'jca')]],\n",
       " [[('검사', 'ncpa'), ('자가', 'ncn')],\n",
       "  [('검사', 'ncpa'), ('자', 'ncn'), ('가', 'jcc')],\n",
       "  [('검사', 'ncpa'), ('자', 'ncn'), ('가', 'jcs')],\n",
       "  [('검사', 'ncr'), ('자가', 'ncn')],\n",
       "  [('검사', 'ncr'), ('자', 'ncn'), ('가', 'jcc')],\n",
       "  [('검사', 'ncr'), ('자', 'ncn'), ('가', 'jcs')]],\n",
       " [[('쉽', 'ncn')], [('쉽', 'nqq')]],\n",
       " [[('것', 'nbn'), ('이', 'jcs')]],\n",
       " [[('평가', 'ncpa'), ('하', 'xsva'), ('ㄹ', 'etm')]],\n",
       " [[('수', 'nbn')], [('수', 'nbu')], [('수', 'ncn')]],\n",
       " [[('있', 'paa'), ('도록', 'ecs')], [('있', 'px'), ('도록', 'ecs')]],\n",
       " [[('하', 'pvg'), ('어', 'ecs')],\n",
       "  [('하', 'pvg'), ('어', 'ecx')],\n",
       "  [('하', 'px'), ('어', 'ecs')],\n",
       "  [('하', 'px'), ('어', 'ecx')]],\n",
       " [[('진단', 'ncpa'), ('을', 'jco')]],\n",
       " [[('용이', 'ncps'), ('하', 'xsms'), ('게', 'ecc')],\n",
       "  [('용이', 'ncps'), ('하', 'xsms'), ('게', 'ecs')],\n",
       "  [('용이', 'ncps'), ('하', 'xsms'), ('게', 'ecx')],\n",
       "  [('용이', 'ncps'), ('하', 'xsms'), ('게', 'ef')]],\n",
       " [[('하', 'pvg'), ('ㄴ다', 'ef')], [('하', 'px'), ('ㄴ다', 'ef')]],\n",
       " [[('.', 'sf')], [('.', 'sy')]]]"
      ]
     },
     "execution_count": 136,
     "metadata": {},
     "output_type": "execute_result"
    }
   ],
   "source": [
    "h.analyze(qsts[2])"
   ]
  },
  {
   "cell_type": "code",
   "execution_count": 137,
   "metadata": {},
   "outputs": [
    {
     "name": "stdout",
     "output_type": "stream",
     "text": [
      "1) 의료용프로브(A58020) 2) 1등급 나. C6-2, C7F2, P9-4, L10-5 다.본 제품은 초음파 센서로 해당 주파수 범위 고조파 영상(harmonic imaging) 과 대조연구 적용을 위해 필요한 대역폭을 제공하는 환자진단용 프로브이다.\n",
      "f ['harmonic', 'imaging'] 2\n",
      "n ['1', '의료용프로브(A58020)', '2', '1등급', '나', 'C6-2,', 'C7F2,', 'P9-4,', 'L10-5', '다.본', '제품', '초음파', '센서', '해당', '주파수', '범위', '고조파', '영', '과', '대조연구', '적용', '필요', '대역폭', '제공', '환자진단용', '프로브'] 26\n",
      "ens [] 0\n"
     ]
    }
   ],
   "source": [
    "dfs = pd.DataFrame\n",
    "for i, qts in enumerate(qsts):\n",
    "    f = 0\n",
    "    n = 0\n",
    "    en = 0\n",
    "    fs = []\n",
    "    ns = []\n",
    "    ens = []\n",
    "    print(qts)\n",
    "    # h.pos: result -> doc = ('word', 'pos')   ex.('harmonic', 'F'), ('고조파', 'N')\n",
    "    for doc in h.pos(qts):\n",
    "        if 'F' in doc:\n",
    "            fs.append(doc[0])\n",
    "            f += 1\n",
    "        if 'N' in doc:\n",
    "            if not '(' in doc:\n",
    "                ns.append(doc[0])\n",
    "                n += 1\n",
    "            else:\n",
    "                ens.append(doc[0])\n",
    "                en += 1\n",
    "    print('f',fs, f)\n",
    "    print('n',ns, n)\n",
    "    print('ens',ens, en)\n",
    "#     df = pd.DataFrame({'foreign':fs, 'noun':ns, 'noun+foreign': ens})\n",
    "#     pd.concat([dfs, df])\n",
    "    break"
   ]
  },
  {
   "cell_type": "code",
   "execution_count": 113,
   "metadata": {},
   "outputs": [
    {
     "name": "stdout",
     "output_type": "stream",
     "text": [
      "exception: ('탐촉자(Transducer)', 'N')\n",
      "f: ('Siemens', 'F') 4\n",
      "n: ('초음파영상진단장치', 'N') 5\n",
      "f: ('Sequoia', 'F') 6\n",
      "n: ('연결', 'N') 8\n",
      "n: ('사용', 'N') 11\n",
      "n: ('구성품', 'N') 14\n",
      "n: ('탐촉자', 'N') 19\n",
      "n: ('인체', 'N') 21\n",
      "n: ('초음파', 'N') 22\n",
      "n: ('영상', 'N') 23\n",
      "n: ('모니터', 'N') 25\n",
      "n: ('검사자', 'N') 27\n",
      "n: ('쉽', 'N') 29\n",
      "n: ('것', 'N') 30\n",
      "n: ('평가', 'N') 32\n",
      "n: ('수', 'N') 35\n",
      "n: ('진단', 'N') 40\n",
      "n: ('용이', 'N') 42\n"
     ]
    }
   ],
   "source": [
    "# import string\n",
    "# import re\n",
    "# eng = list(string.ascii_letters)\n",
    "# reg = re.compile(r'[a-zA-Z]')\n",
    "\n",
    "for i, document in enumerate(h.pos(df_sampleDat[1][2])):\n",
    "    if 'F' in document:\n",
    "        print('f:', document, i)\n",
    "    if 'N' in document:\n",
    "        if not '(' in document[0]:\n",
    "            print('n:', document, i)\n",
    "        else:\n",
    "#         if reg.match(document[0]):# in eng:\n",
    "            print('exception:', document)\n",
    "#    else:\n",
    "#        print('else:', document)"
   ]
  },
  {
   "cell_type": "code",
   "execution_count": 87,
   "metadata": {
    "scrolled": true
   },
   "outputs": [
    {
     "data": {
      "text/plain": [
       "[('보', 'VV'),\n",
       " ('ㄴ', 'ETD'),\n",
       " ('탐', 'NNG'),\n",
       " ('촉', 'NNG'),\n",
       " ('자', 'NNG'),\n",
       " ('(', 'SS'),\n",
       " ('Transducer', 'OL'),\n",
       " (')', 'SS'),\n",
       " ('늘', 'VV'),\n",
       " ('ㄴ', 'ETD'),\n",
       " ('Siemens', 'OL'),\n",
       " ('초음파', 'NNG'),\n",
       " ('영상', 'NNG'),\n",
       " ('진단', 'NNG'),\n",
       " ('장치', 'NNG'),\n",
       " ('Sequoia', 'OL'),\n",
       " ('에', 'JKM'),\n",
       " ('연결', 'NNG'),\n",
       " ('하', 'XSV'),\n",
       " ('여', 'ECS'),\n",
       " ('사용', 'NNG'),\n",
       " ('하', 'XSV'),\n",
       " ('는', 'ETD'),\n",
       " ('구성품', 'NNG'),\n",
       " ('으로서', 'JKM'),\n",
       " (',', 'SP'),\n",
       " ('본', 'NNG'),\n",
       " ('탐', 'NNG'),\n",
       " ('촉', 'NNG'),\n",
       " ('자', 'NNG'),\n",
       " ('는', 'JX'),\n",
       " ('인체', 'NNG'),\n",
       " ('초음파', 'NNG'),\n",
       " ('영상', 'NNG'),\n",
       " ('을', 'JKO'),\n",
       " ('모니터', 'NNG'),\n",
       " ('로', 'JKM'),\n",
       " ('검사자', 'NNG'),\n",
       " ('가', 'JKS'),\n",
       " ('쉬', 'VV'),\n",
       " ('게', 'ECD'),\n",
       " ('평가', 'NNG'),\n",
       " ('하', 'XSV'),\n",
       " ('ㄹ', 'ETD'),\n",
       " ('수', 'NNB'),\n",
       " ('있', 'VV'),\n",
       " ('도록', 'ECD'),\n",
       " ('하여', 'MAG'),\n",
       " ('진단', 'NNG'),\n",
       " ('을', 'JKO'),\n",
       " ('용이', 'XR'),\n",
       " ('하', 'XSA'),\n",
       " ('게', 'ECD'),\n",
       " ('하', 'VV'),\n",
       " ('ㄴ다', 'EFN'),\n",
       " ('.', 'SF')]"
      ]
     },
     "execution_count": 87,
     "metadata": {},
     "output_type": "execute_result"
    }
   ],
   "source": [
    "kkma.pos(df_sampleDat[1][2])"
   ]
  },
  {
   "cell_type": "code",
   "execution_count": null,
   "metadata": {},
   "outputs": [],
   "source": []
  },
  {
   "cell_type": "code",
   "execution_count": null,
   "metadata": {},
   "outputs": [],
   "source": [
    "# #텍스트 정제 (특수기호 제거)\n",
    "# for i, document in enumerate(x_data):\n",
    "#     document = re.sub(r'[^ A-Za-z]', '', document) #특수기호 제거, 정규 표현식    \n",
    "#     print(document) #stale and uninspired\n",
    "#     x_data[i] = document"
   ]
  },
  {
   "cell_type": "code",
   "execution_count": null,
   "metadata": {},
   "outputs": [],
   "source": [
    "'''\n",
    "# 형태소분석 함수\n",
    "def clean_korean_documents(sentences):\n",
    "\n",
    "    # KoNLPy 형태소분석기 설정\n",
    "    tagger = konlpy.tag.Okt()\n",
    "\n",
    "    # 문장 품사 변수 초기화\n",
    "    sentences_pos = []\n",
    "\n",
    "    # 모든 문장 반복\n",
    "    for sentence in sentences:\n",
    "        # 정규 표현식 필터\n",
    "        RE_FILTER = re.compile(\"[.,!?\\\"':;~()]\")\n",
    "        # 특수기호 제거\n",
    "        sentence = re.sub(RE_FILTER, \"\", sentence)\n",
    "\n",
    "        # 배열인 형태소분석의 출력을 띄어쓰기로 구분하여 붙임\n",
    "        sentence = \" \".join(tagger.morphs(sentence))\n",
    "        sentences_pos.append(sentence)\n",
    "\n",
    "    return sentences_pos\n",
    "'''"
   ]
  }
 ],
 "metadata": {
  "kernelspec": {
   "display_name": "Python 3",
   "language": "python",
   "name": "python3"
  },
  "language_info": {
   "codemirror_mode": {
    "name": "ipython",
    "version": 3
   },
   "file_extension": ".py",
   "mimetype": "text/x-python",
   "name": "python",
   "nbconvert_exporter": "python",
   "pygments_lexer": "ipython3",
   "version": "3.7.4"
  }
 },
 "nbformat": 4,
 "nbformat_minor": 4
}
